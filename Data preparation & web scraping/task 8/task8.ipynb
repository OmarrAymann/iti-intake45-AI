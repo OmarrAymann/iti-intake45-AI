{
 "cells": [
  {
   "cell_type": "code",
   "execution_count": 62,
   "metadata": {},
   "outputs": [],
   "source": [
    "from selenium import webdriver\n",
    "from selenium.webdriver.common.by import By\n",
    "from selenium.webdriver.support.ui import WebDriverWait\n",
    "from selenium.webdriver.support import expected_conditions as EC\n",
    "import pandas as pd\n",
    "\n",
    "fathi = webdriver.Chrome()\n",
    "path=\"https://www.jumia.com.eg/catalog/?q=phone\"\n",
    "fathi.get(path)"
   ]
  },
  {
   "cell_type": "code",
   "execution_count": 63,
   "metadata": {},
   "outputs": [],
   "source": [
    "Height = 0\n",
    "for i in range(1, 5):\n",
    "    Height += 500\n",
    "    fathi.execute_script(f\"window.scrollTo(0, {Height})\")\n",
    "all_pages = [f\"{path}&path={i}\" for i in range(1, 5)]\n"
   ]
  },
  {
   "cell_type": "code",
   "execution_count": 64,
   "metadata": {},
   "outputs": [],
   "source": [
    "phone = []\n",
    "for page in all_pages:\n",
    "    fathi.get(page)\n",
    "    WebDriverWait(fathi, 10).until(EC.presence_of_all_elements_located((By.XPATH, \"//article[@class='prd _fb col c-prd']\")))\n",
    "    rows = fathi.find_elements(By.XPATH, \"//article[@class='prd _fb col c-prd']\")\n",
    "    for i in rows:\n",
    "        name = i.find_element(By.XPATH, \".//a[@class='core']/div[@class='info']/h3[@class='name']\").text\n",
    "        price = i.find_element(By.XPATH, \".//a[@class='core']/div[@class='info']/div[@class='prc']\").text\n",
    "        image_link = i.find_element(By.XPATH, \".//a[@class='core']/div[@class='img-c']/img\").get_attribute(\"src\")\n",
    "        rate_element = i.find_elements(By.XPATH, \".//a[@class='core']/div[@class='info']/div[@class='rev']/div\")\n",
    "        rate = rate_element[0].get_attribute(\"aria-label\") if rate_element else \"No rating\"\n",
    "        phone.append({\n",
    "            'name': name,\n",
    "            'price': price,\n",
    "            'image': image_link,\n",
    "            'rate': rate\n",
    "        })\n"
   ]
  },
  {
   "cell_type": "code",
   "execution_count": 65,
   "metadata": {},
   "outputs": [],
   "source": [
    "df=pd.DataFrame(phone)\n",
    "df.to_csv(\"jumia_phones.csv \")"
   ]
  }
 ],
 "metadata": {
  "kernelspec": {
   "display_name": "Python 3",
   "language": "python",
   "name": "python3"
  },
  "language_info": {
   "codemirror_mode": {
    "name": "ipython",
    "version": 3
   },
   "file_extension": ".py",
   "mimetype": "text/x-python",
   "name": "python",
   "nbconvert_exporter": "python",
   "pygments_lexer": "ipython3",
   "version": "3.13.1"
  }
 },
 "nbformat": 4,
 "nbformat_minor": 2
}
