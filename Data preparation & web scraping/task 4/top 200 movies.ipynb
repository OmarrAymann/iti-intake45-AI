{
 "cells": [
  {
   "cell_type": "code",
   "execution_count": 7,
   "metadata": {},
   "outputs": [],
   "source": [
    "from selenium import webdriver\n",
    "from selenium.common.exceptions import NoSuchElementException\n",
    "import pandas as pd\n",
    "\n",
    "fathi = webdriver.Chrome()\n",
    "fathi.get('https://www.boxofficemojo.com/chart/top_lifetime_gross/?area=XWW')"
   ]
  },
  {
   "cell_type": "code",
   "execution_count": 9,
   "metadata": {},
   "outputs": [],
   "source": [
    "rows = fathi.find_elements(\"xpath\", \"//div[@class='a-section imdb-scroll-table-inner']/table/tbody/tr\")\n",
    "movie = []\n",
    "for i in rows:\n",
    "    try:\n",
    "        rank = i.find_element(\"xpath\", \"./td[1]\").text\n",
    "        title = i.find_element(\"xpath\", \"./td[2]\").text\n",
    "        lifetime_gross = i.find_element(\"xpath\", \"./td[3]\").text\n",
    "        year = i.find_element(\"xpath\", \"./td[4]\").text\n",
    "        movie.append({\n",
    "            'Rank': rank,\n",
    "            'Title': title,\n",
    "            'Lifetime Gross': lifetime_gross,\n",
    "            'Year': year\n",
    "        })\n",
    "    except NoSuchElementException:\n",
    "        continue"
   ]
  },
  {
   "cell_type": "code",
   "execution_count": 10,
   "metadata": {},
   "outputs": [],
   "source": [
    "df=pd.DataFrame(movie)\n",
    "df.to_csv(\"top 200 movies.csv \")"
   ]
  }
 ],
 "metadata": {
  "kernelspec": {
   "display_name": "Python 3",
   "language": "python",
   "name": "python3"
  },
  "language_info": {
   "codemirror_mode": {
    "name": "ipython",
    "version": 3
   },
   "file_extension": ".py",
   "mimetype": "text/x-python",
   "name": "python",
   "nbconvert_exporter": "python",
   "pygments_lexer": "ipython3",
   "version": "3.13.1"
  }
 },
 "nbformat": 4,
 "nbformat_minor": 2
}
