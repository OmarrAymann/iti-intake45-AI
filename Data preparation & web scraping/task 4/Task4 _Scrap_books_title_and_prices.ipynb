{
 "cells": [
  {
   "cell_type": "code",
   "execution_count": 1,
   "metadata": {},
   "outputs": [],
   "source": [
    "from selenium import webdriver\n",
    "import pandas as pd\n",
    "fathi = webdriver.Chrome()\n",
    "fathi.get('https://www.amazon.in/gp/bestsellers/books/')"
   ]
  },
  {
   "cell_type": "code",
   "execution_count": 5,
   "metadata": {},
   "outputs": [
    {
     "data": {
      "text/plain": [
       "17"
      ]
     },
     "execution_count": 5,
     "metadata": {},
     "output_type": "execute_result"
    }
   ],
   "source": [
    "\n",
    "books=fathi.find_elements(\"xpath\",\"//div[@class='_cDEzb_iveVideoWrapper_JJ34T']\")\n",
    "len(books)"
   ]
  },
  {
   "cell_type": "code",
   "execution_count": 6,
   "metadata": {},
   "outputs": [],
   "source": [
    "books_name=[]\n",
    "books_price=[]\n",
    "\n",
    "book_name=books[0].find_element(\"xpath\",\"//span/div[@class='_cDEzb_p13n-sc-css-line-clamp-2_EWgCb']\").text\n",
    "books_name.append(book_name)\n",
    "\n",
    "book_price=books[0].find_element(\"xpath\",\"//span/span[@class='_cDEzb_p13n-sc-price_3mJ9Z']\").text\n",
    "books_price.append(book_price)"
   ]
  },
  {
   "cell_type": "code",
   "execution_count": 7,
   "metadata": {},
   "outputs": [],
   "source": [
    "for i in range(len(books)):\n",
    "    if i > 0:\n",
    "        book_name = books[i].find_element(\"xpath\", \".//div[ @class ='_cDEzb_p13n-sc-css-line-clamp-1_1Fn1y']\")\n",
    "        books_name.append(book_name.text)\n",
    "        book_price = books[i].find_element(\"xpath\", \".//span[ @class ='_cDEzb_p13n-sc-price_3mJ9Z']\")\n",
    "        books_price.append(book_price.text)"
   ]
  },
  {
   "cell_type": "code",
   "execution_count": 8,
   "metadata": {},
   "outputs": [
    {
     "name": "stdout",
     "output_type": "stream",
     "text": [
      "17\n",
      "['Too Good to Be True : A smart, funny will-they-won’t-they romance', 'Atomic Habits', 'Educart CBSE Class 10 Most Likely Sets of Sample Papers - Science, Maths Standard, Social Science & English (with Answer Writing Sheets 2024-25)', 'Amma Diarylo Konni Pageelu', 'Dopamine Detox : A Short Guide to Remove Distractions and Get Your Brain to Do Hard Things', 'Animals Tales From Panchtantra: Timeless Stories for Children From Ancient India', 'White Nights', 'Ikigai: Japanese secret to long and happy life', 'Enlightenment: A New Beginning', 'My First Book of Patterns Pencil Control: Patterns Practice book for kids (Pattern Writing)', 'Rich Dad Poor Dad: What the Rich Teach Their Kids About Money That the Poor and Middle Class Do Not!', 'The Power of Your Subconscious Mind: Original Edition | Premium Paperback', 'Courage To Be Disliked, The: How to free yourself, change your life and achieve real happiness', 'PW NTA NEET Rankers Test Series 2025 Verified & Curated by Expert Faculties | 10 Full Syllabus + 4 Part Syllabus (Class 11 & 12) | OMR Sheet, Solution Booklet with NCERT References', 'Own Your Body', 'SSC Delhi Police Chapterwise General Awareness + Maths + Reasoning TCS PYQs Solved Papers COMBO 2025 Edition (Hindi Medium)(DP COMBO H)', 'The Power of Your Subconscious Mind: Original Classic Edition | Premium Paperback']\n",
      "17\n",
      "['₹289.00', '₹569.00', '₹494.00', '₹220.00', '₹199.00', '₹199.00', '₹124.00', '₹357.00', '₹229.00', '₹129.00', '₹192.00', '₹149.00', '₹346.00', '₹624.00', '₹322.00', '₹165.00', '₹149.00']\n"
     ]
    }
   ],
   "source": [
    "print(len(books_name))\n",
    "print(books_name)\n",
    "print(len(books_price))\n",
    "print(books_price)\n"
   ]
  },
  {
   "cell_type": "code",
   "execution_count": 9,
   "metadata": {},
   "outputs": [
    {
     "data": {
      "text/html": [
       "<div>\n",
       "<style scoped>\n",
       "    .dataframe tbody tr th:only-of-type {\n",
       "        vertical-align: middle;\n",
       "    }\n",
       "\n",
       "    .dataframe tbody tr th {\n",
       "        vertical-align: top;\n",
       "    }\n",
       "\n",
       "    .dataframe thead th {\n",
       "        text-align: right;\n",
       "    }\n",
       "</style>\n",
       "<table border=\"1\" class=\"dataframe\">\n",
       "  <thead>\n",
       "    <tr style=\"text-align: right;\">\n",
       "      <th></th>\n",
       "      <th>book_name</th>\n",
       "      <th>book_price</th>\n",
       "    </tr>\n",
       "  </thead>\n",
       "  <tbody>\n",
       "    <tr>\n",
       "      <th>0</th>\n",
       "      <td>Too Good to Be True : A smart, funny will-they...</td>\n",
       "      <td>₹289.00</td>\n",
       "    </tr>\n",
       "    <tr>\n",
       "      <th>1</th>\n",
       "      <td>Atomic Habits</td>\n",
       "      <td>₹569.00</td>\n",
       "    </tr>\n",
       "    <tr>\n",
       "      <th>2</th>\n",
       "      <td>Educart CBSE Class 10 Most Likely Sets of Samp...</td>\n",
       "      <td>₹494.00</td>\n",
       "    </tr>\n",
       "    <tr>\n",
       "      <th>3</th>\n",
       "      <td>Amma Diarylo Konni Pageelu</td>\n",
       "      <td>₹220.00</td>\n",
       "    </tr>\n",
       "    <tr>\n",
       "      <th>4</th>\n",
       "      <td>Dopamine Detox : A Short Guide to Remove Distr...</td>\n",
       "      <td>₹199.00</td>\n",
       "    </tr>\n",
       "    <tr>\n",
       "      <th>5</th>\n",
       "      <td>Animals Tales From Panchtantra: Timeless Stori...</td>\n",
       "      <td>₹199.00</td>\n",
       "    </tr>\n",
       "    <tr>\n",
       "      <th>6</th>\n",
       "      <td>White Nights</td>\n",
       "      <td>₹124.00</td>\n",
       "    </tr>\n",
       "    <tr>\n",
       "      <th>7</th>\n",
       "      <td>Ikigai: Japanese secret to long and happy life</td>\n",
       "      <td>₹357.00</td>\n",
       "    </tr>\n",
       "    <tr>\n",
       "      <th>8</th>\n",
       "      <td>Enlightenment: A New Beginning</td>\n",
       "      <td>₹229.00</td>\n",
       "    </tr>\n",
       "    <tr>\n",
       "      <th>9</th>\n",
       "      <td>My First Book of Patterns Pencil Control: Patt...</td>\n",
       "      <td>₹129.00</td>\n",
       "    </tr>\n",
       "    <tr>\n",
       "      <th>10</th>\n",
       "      <td>Rich Dad Poor Dad: What the Rich Teach Their K...</td>\n",
       "      <td>₹192.00</td>\n",
       "    </tr>\n",
       "    <tr>\n",
       "      <th>11</th>\n",
       "      <td>The Power of Your Subconscious Mind: Original ...</td>\n",
       "      <td>₹149.00</td>\n",
       "    </tr>\n",
       "    <tr>\n",
       "      <th>12</th>\n",
       "      <td>Courage To Be Disliked, The: How to free yours...</td>\n",
       "      <td>₹346.00</td>\n",
       "    </tr>\n",
       "    <tr>\n",
       "      <th>13</th>\n",
       "      <td>PW NTA NEET Rankers Test Series 2025 Verified ...</td>\n",
       "      <td>₹624.00</td>\n",
       "    </tr>\n",
       "    <tr>\n",
       "      <th>14</th>\n",
       "      <td>Own Your Body</td>\n",
       "      <td>₹322.00</td>\n",
       "    </tr>\n",
       "    <tr>\n",
       "      <th>15</th>\n",
       "      <td>SSC Delhi Police Chapterwise General Awareness...</td>\n",
       "      <td>₹165.00</td>\n",
       "    </tr>\n",
       "    <tr>\n",
       "      <th>16</th>\n",
       "      <td>The Power of Your Subconscious Mind: Original ...</td>\n",
       "      <td>₹149.00</td>\n",
       "    </tr>\n",
       "  </tbody>\n",
       "</table>\n",
       "</div>"
      ],
      "text/plain": [
       "                                            book_name book_price\n",
       "0   Too Good to Be True : A smart, funny will-they...    ₹289.00\n",
       "1                                       Atomic Habits    ₹569.00\n",
       "2   Educart CBSE Class 10 Most Likely Sets of Samp...    ₹494.00\n",
       "3                          Amma Diarylo Konni Pageelu    ₹220.00\n",
       "4   Dopamine Detox : A Short Guide to Remove Distr...    ₹199.00\n",
       "5   Animals Tales From Panchtantra: Timeless Stori...    ₹199.00\n",
       "6                                        White Nights    ₹124.00\n",
       "7      Ikigai: Japanese secret to long and happy life    ₹357.00\n",
       "8                      Enlightenment: A New Beginning    ₹229.00\n",
       "9   My First Book of Patterns Pencil Control: Patt...    ₹129.00\n",
       "10  Rich Dad Poor Dad: What the Rich Teach Their K...    ₹192.00\n",
       "11  The Power of Your Subconscious Mind: Original ...    ₹149.00\n",
       "12  Courage To Be Disliked, The: How to free yours...    ₹346.00\n",
       "13  PW NTA NEET Rankers Test Series 2025 Verified ...    ₹624.00\n",
       "14                                      Own Your Body    ₹322.00\n",
       "15  SSC Delhi Police Chapterwise General Awareness...    ₹165.00\n",
       "16  The Power of Your Subconscious Mind: Original ...    ₹149.00"
      ]
     },
     "execution_count": 9,
     "metadata": {},
     "output_type": "execute_result"
    }
   ],
   "source": [
    "data={\n",
    "    'book_name':books_name\n",
    "    ,'book_price':books_price\n",
    "}\n",
    "df=pd.DataFrame(data)\n",
    "df"
   ]
  },
  {
   "cell_type": "code",
   "execution_count": 10,
   "metadata": {},
   "outputs": [],
   "source": [
    "df.to_csv(\"Task_4 _Scrap_books_title_and_prices.csv\")\n"
   ]
  }
 ],
 "metadata": {
  "kernelspec": {
   "display_name": "Python 3",
   "language": "python",
   "name": "python3"
  },
  "language_info": {
   "codemirror_mode": {
    "name": "ipython",
    "version": 3
   },
   "file_extension": ".py",
   "mimetype": "text/x-python",
   "name": "python",
   "nbconvert_exporter": "python",
   "pygments_lexer": "ipython3",
   "version": "3.13.1"
  }
 },
 "nbformat": 4,
 "nbformat_minor": 2
}
