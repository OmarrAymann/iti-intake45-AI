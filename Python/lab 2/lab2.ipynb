{
 "cells": [
  {
   "cell_type": "markdown",
   "metadata": {},
   "source": [
    "*how tuple save the list inside it*"
   ]
  },
  {
   "cell_type": "markdown",
   "metadata": {},
   "source": [
    "● Write a program that counts up the number of vowels [a, e, i, o, \n",
    "u] contained in the string."
   ]
  },
  {
   "cell_type": "code",
   "execution_count": null,
   "metadata": {},
   "outputs": [
    {
     "name": "stdout",
     "output_type": "stream",
     "text": [
      "num of vowels = 2\n"
     ]
    }
   ],
   "source": [
    "x=input(\"enter the string\")\n",
    "vow=0\n",
    "for char in x.lower():\n",
    "    if char in \"aeiou\":\n",
    "        vow +=1\n",
    "print(f\"num of vowels = {vow}\")"
   ]
  },
  {
   "cell_type": "markdown",
   "metadata": {},
   "source": [
    "Fill an array of 5 elements from the user, Sort it in descending \n",
    "and ascending orders then display the output."
   ]
  },
  {
   "cell_type": "code",
   "execution_count": null,
   "metadata": {},
   "outputs": [
    {
     "name": "stdout",
     "output_type": "stream",
     "text": [
      "['15', '45', '45', '54', '54']\n",
      "['54', '54', '45', '45', '15']\n"
     ]
    }
   ],
   "source": [
    "mylist=[]\n",
    "for i in range(5):\n",
    "    user=input(i+1)\n",
    "    mylist.append(user)\n",
    "mylist.sort()\n",
    "print(mylist)\n",
    "mylist.reverse()\n",
    "print(mylist)"
   ]
  },
  {
   "cell_type": "markdown",
   "metadata": {},
   "source": [
    "Write a program that prints the number of times the string 'iti' \n",
    "occurs in anystring."
   ]
  },
  {
   "cell_type": "code",
   "execution_count": 33,
   "metadata": {},
   "outputs": [
    {
     "name": "stdout",
     "output_type": "stream",
     "text": [
      "3\n"
     ]
    }
   ],
   "source": [
    "mylist =[\"iti\",159,\"iti\",954,\"iti\"]\n",
    "print(mylist.count(\"iti\"))"
   ]
  },
  {
   "cell_type": "markdown",
   "metadata": {},
   "source": [
    "Write a program that remove all vowels from the input word and \n",
    "generate a brief version of it"
   ]
  },
  {
   "cell_type": "code",
   "execution_count": null,
   "metadata": {},
   "outputs": [
    {
     "name": "stdout",
     "output_type": "stream",
     "text": [
      "*k*k*k\n"
     ]
    }
   ],
   "source": [
    "x=input(\"enter the string\")\n",
    "if x.isalpha():\n",
    "    newword=\"\"\n",
    "    for i in x.lower():\n",
    "        if i in \"aeiou\":\n",
    "            newword +=\"*\"\n",
    "        else:\n",
    "            newword+= i\n",
    "\n",
    "            \n",
    "    print(newword)\n",
    "else:\n",
    "    print(\"invalid\")\n",
    "\n",
    "        "
   ]
  },
  {
   "cell_type": "markdown",
   "metadata": {},
   "source": [
    "● Write a program that prints the locations of \"i\" character in any \n",
    "string you added."
   ]
  },
  {
   "cell_type": "code",
   "execution_count": 15,
   "metadata": {},
   "outputs": [
    {
     "name": "stdout",
     "output_type": "stream",
     "text": [
      "index of i =  0\n",
      "index of i =  2\n",
      "index of i =  4\n"
     ]
    }
   ],
   "source": [
    "\n",
    "x=input(\"enter the string\")\n",
    "if x.isalpha():\n",
    "    for i , j in enumerate(x.lower()):\n",
    "        if j == \"i\":\n",
    "            print(\"index of i = \",i)\n",
    "            \n",
    "else:\n",
    "    print(\"invalid\")\n"
   ]
  },
  {
   "cell_type": "markdown",
   "metadata": {},
   "source": [
    " Write a program that generate a multiplication table from 1 to the \n",
    "number passed"
   ]
  },
  {
   "cell_type": "code",
   "execution_count": null,
   "metadata": {},
   "outputs": [
    {
     "name": "stdout",
     "output_type": "stream",
     "text": [
      "[[1], [2, 4], [3, 6, 9], [4, 8, 12, 16], [5, 10, 15, 20, 25]]\n"
     ]
    }
   ],
   "source": [
    "x=input(\"enter the number\")\n",
    "listN = list([])\n",
    "if x.isdigit():\n",
    "    i=int(x)\n",
    "    for j in range(1,i+1):\n",
    "        listN.append(list([]))\n",
    "        for k in range (1,j+1):\n",
    "            listN[j-1].append(j*k)\n",
    "    print(listN)\n",
    "else:\n",
    "    print(\"invalid\")"
   ]
  },
  {
   "cell_type": "markdown",
   "metadata": {},
   "source": [
    "Write a program that build a Mario pyramid like below:"
   ]
  },
  {
   "cell_type": "code",
   "execution_count": null,
   "metadata": {},
   "outputs": [
    {
     "name": "stdout",
     "output_type": "stream",
     "text": [
      "          *\n",
      "         **\n",
      "        ***\n",
      "       ****\n",
      "      *****\n",
      "     ******\n",
      "    *******\n",
      "   ********\n",
      "  *********\n",
      " **********\n",
      "***********\n"
     ]
    }
   ],
   "source": [
    "x=input(\"enter the number\")\n",
    "if x.isdigit():\n",
    "    i=int(x)\n",
    "    for j in range(1,i+1):\n",
    "        print(\" \"*(i-j)+j*\"*\")\n",
    "        j+=1\n",
    "else:\n",
    "    print(\"invalid\")"
   ]
  }
 ],
 "metadata": {
  "kernelspec": {
   "display_name": "Python 3",
   "language": "python",
   "name": "python3"
  },
  "language_info": {
   "codemirror_mode": {
    "name": "ipython",
    "version": 3
   },
   "file_extension": ".py",
   "mimetype": "text/x-python",
   "name": "python",
   "nbconvert_exporter": "python",
   "pygments_lexer": "ipython3",
   "version": "3.13.0"
  }
 },
 "nbformat": 4,
 "nbformat_minor": 2
}
