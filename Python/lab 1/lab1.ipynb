{
 "cells": [
  {
   "cell_type": "markdown",
   "metadata": {},
   "source": [
    "1- Write a program that takes a string input from the\n",
    "user and prints the string in reverse order. Hint use\n",
    "while loop and string concat. Don’t use str[::-1]\n"
   ]
  },
  {
   "cell_type": "code",
   "execution_count": 93,
   "metadata": {},
   "outputs": [
    {
     "name": "stdout",
     "output_type": "stream",
     "text": [
      "ramo\n"
     ]
    }
   ],
   "source": [
    "x=input(\"enter the string\")\n",
    "\n",
    "if x.isalpha():\n",
    "    reversedx=\"\"\n",
    "    i =len(x)-1\n",
    "    while i>=0:\n",
    "        reversedx +=x[i]\n",
    "        i-=1\n",
    "    print(reversedx)\n",
    "else:\n",
    "    print(\"invaled\")"
   ]
  },
  {
   "cell_type": "markdown",
   "metadata": {},
   "source": [
    "2- Create a program that counts the number of vowels\n",
    "and consonants in a given string.\n",
    "Hint: vowels are ‘aeiou’ , Use the in operator and while\n",
    "loop"
   ]
  },
  {
   "cell_type": "code",
   "execution_count": 112,
   "metadata": {},
   "outputs": [
    {
     "name": "stdout",
     "output_type": "stream",
     "text": [
      "num of vowels = 20\n",
      "num of consonants = 18\n"
     ]
    }
   ],
   "source": [
    "x=input(\"enter the string\")\n",
    "vow=0\n",
    "cons=0\n",
    "for char in x.lower():\n",
    "    if char in \"aeiou\":\n",
    "        vow +=1\n",
    "    else:\n",
    "        cons+=1\n",
    "print(f\"num of vowels = {vow}\")\n",
    "print(f\"num of consonants = {cons}\")"
   ]
  },
  {
   "cell_type": "markdown",
   "metadata": {},
   "source": [
    "3- Build a program that asks the user for a string\n",
    "and a number, then prints the string repeated that\n",
    "number of times [using while loop].\n"
   ]
  },
  {
   "cell_type": "code",
   "execution_count": 96,
   "metadata": {},
   "outputs": [
    {
     "name": "stdout",
     "output_type": "stream",
     "text": [
      "omar\n",
      "omar\n"
     ]
    }
   ],
   "source": [
    "x=input(\"enter the string\")\n",
    "y=input(\"enter the number\")\n",
    "if x.isalpha():\n",
    "    if y.isdigit():\n",
    "        i=int(y)\n",
    "        j=0\n",
    "        while j < i:\n",
    "            print(x)\n",
    "            j+=1\n",
    "    else:\n",
    "     print(\"invaled\")         \n",
    "else:\n",
    "    print(\"invaled\")\n"
   ]
  },
  {
   "cell_type": "markdown",
   "metadata": {},
   "source": [
    "Create a program that takes a string and\n",
    "capitalizes the first letter of each word. Using while\n",
    "loops and without using title"
   ]
  },
  {
   "cell_type": "code",
   "execution_count": 107,
   "metadata": {},
   "outputs": [
    {
     "name": "stdout",
     "output_type": "stream",
     "text": [
      "Omar Ayman\n"
     ]
    }
   ],
   "source": [
    "x=input(\"enter the string\")\n",
    "if x:\n",
    "    counter=0\n",
    "    capital=\"\"\n",
    "    while counter<len(x):\n",
    "        if x[counter -1] == \" \" or counter == 0:\n",
    "            capital+= x[counter].upper()\n",
    "        else:\n",
    "            capital+=x[counter]\n",
    "        counter+=1\n",
    "    print(capital)\n",
    "else:\n",
    "    print(\"invaled\")"
   ]
  },
  {
   "cell_type": "markdown",
   "metadata": {},
   "source": [
    "Write a program that prints only the even\n",
    "numbers from 0 to 120 using while loop."
   ]
  },
  {
   "cell_type": "code",
   "execution_count": 43,
   "metadata": {},
   "outputs": [
    {
     "name": "stdout",
     "output_type": "stream",
     "text": [
      "0\n",
      "2\n",
      "4\n",
      "6\n",
      "8\n",
      "10\n",
      "12\n",
      "14\n",
      "16\n",
      "18\n",
      "20\n",
      "22\n",
      "24\n",
      "26\n",
      "28\n",
      "30\n",
      "32\n",
      "34\n",
      "36\n",
      "38\n",
      "40\n",
      "42\n",
      "44\n",
      "46\n",
      "48\n",
      "50\n",
      "52\n",
      "54\n",
      "56\n",
      "58\n",
      "60\n",
      "62\n",
      "64\n",
      "66\n",
      "68\n",
      "70\n",
      "72\n",
      "74\n",
      "76\n",
      "78\n",
      "80\n",
      "82\n",
      "84\n",
      "86\n",
      "88\n",
      "90\n",
      "92\n",
      "94\n",
      "96\n",
      "98\n",
      "100\n",
      "102\n",
      "104\n",
      "106\n",
      "108\n",
      "110\n",
      "112\n",
      "114\n",
      "116\n",
      "118\n"
     ]
    }
   ],
   "source": [
    "\n",
    "i=0\n",
    "\n",
    "while i<120:\n",
    "    if i % 2 == 0:\n",
    "        print(i)\n",
    "    i+=1\n",
    "    if i == 120:\n",
    "        break"
   ]
  },
  {
   "cell_type": "markdown",
   "metadata": {},
   "source": [
    "Use a while loop to find and print the sum of all\n",
    "even numbers up to a user-specified limit."
   ]
  },
  {
   "cell_type": "code",
   "execution_count": 55,
   "metadata": {},
   "outputs": [
    {
     "name": "stdout",
     "output_type": "stream",
     "text": [
      "12\n"
     ]
    }
   ],
   "source": [
    "x=input(\"enter the number\")\n",
    "i=0\n",
    "sum=0\n",
    "if x.isdigit():\n",
    "    while i<int(x):\n",
    "        if i % 2 == 0:\n",
    "            sum+=i\n",
    "        i+=1\n",
    "else:\n",
    "    print(\"invaled\")\n",
    "print(sum)"
   ]
  },
  {
   "cell_type": "markdown",
   "metadata": {},
   "source": [
    "Create a program that takes any positive integer\n",
    "n as input and prints the sequence according to the\n",
    "until n becomes 1.\n",
    "Hint given 5 → output 5, 4, 3,2,1\n",
    "Hint: print them in one string"
   ]
  },
  {
   "cell_type": "code",
   "execution_count": null,
   "metadata": {},
   "outputs": [
    {
     "name": "stdout",
     "output_type": "stream",
     "text": [
      "8\n",
      "7\n",
      "6\n",
      "5\n",
      "4\n",
      "3\n",
      "2\n",
      "1\n"
     ]
    }
   ],
   "source": [
    "x=input(\"enter the number\")\n",
    "\n",
    "if x.isdigit():\n",
    "    i=int(x)\n",
    "    while i>0:\n",
    "        print (i)\n",
    "        i-=1\n",
    "    \n",
    "else:\n",
    "    print(\"invaled\")\n"
   ]
  },
  {
   "cell_type": "markdown",
   "metadata": {},
   "source": [
    "9- Create a program that asks for user input\n",
    "repeatedly until they enter a valid positive integer\n",
    "then print it"
   ]
  },
  {
   "cell_type": "code",
   "execution_count": 71,
   "metadata": {},
   "outputs": [
    {
     "name": "stdout",
     "output_type": "stream",
     "text": [
      "invaled\n"
     ]
    }
   ],
   "source": [
    "x=input(\"enter the number\")\n",
    "\n",
    "if x.isdigit():\n",
    "    i=int(x)\n",
    "    if i>0:\n",
    "        print (i)\n",
    "else:\n",
    "    print(\"invaled\")"
   ]
  },
  {
   "cell_type": "markdown",
   "metadata": {},
   "source": [
    "10- Write a program to calculate the factorial of a\n",
    "given number using a while loop.\n",
    "Given 5 —> output 120"
   ]
  },
  {
   "cell_type": "code",
   "execution_count": 83,
   "metadata": {},
   "outputs": [
    {
     "name": "stdout",
     "output_type": "stream",
     "text": [
      "120\n"
     ]
    }
   ],
   "source": [
    "x=input(\"enter the number\")\n",
    "if x.isdigit():\n",
    "    i=int(x)\n",
    "    j=1\n",
    "    mult=1\n",
    "    while j<i:\n",
    "        j+=1\n",
    "        mult*=j\n",
    "    print(mult)\n",
    "else:\n",
    "    print(\"invaled\")"
   ]
  },
  {
   "cell_type": "markdown",
   "metadata": {},
   "source": [
    "11- Use a while loop to reverse the digits of an\n",
    "integer provided by the user. For example, if the user enters 1234, the output should be 4321.\n"
   ]
  },
  {
   "cell_type": "code",
   "execution_count": 92,
   "metadata": {},
   "outputs": [
    {
     "name": "stdout",
     "output_type": "stream",
     "text": [
      "4321\n"
     ]
    }
   ],
   "source": [
    "x=input(\"enter the number\")\n",
    "\n",
    "if x.isdigit():\n",
    "    reversedx=\"\"\n",
    "    i =len(x)-1\n",
    "    while i>=0:\n",
    "        reversedx +=x[i]\n",
    "        i-=1\n",
    "    print(reversedx)\n",
    "else:\n",
    "    print(\"invaled\")"
   ]
  },
  {
   "cell_type": "markdown",
   "metadata": {},
   "source": [
    "12- Write a program that keeps asking the user to\n",
    "enter a password until they enter the correct one print\n",
    "success. Use a while loop to keep prompting the\n",
    "user."
   ]
  },
  {
   "cell_type": "code",
   "execution_count": 90,
   "metadata": {},
   "outputs": [
    {
     "name": "stdout",
     "output_type": "stream",
     "text": [
      "welcome\n"
     ]
    }
   ],
   "source": [
    "passwd=\"123\"\n",
    "while True:\n",
    "    password = input(\"enter the password\")\n",
    "    if password == passwd:\n",
    "        print(\"welcome\")\n",
    "        break\n",
    "    else:\n",
    "        print(\"incorrect password\")\n",
    "\n"
   ]
  },
  {
   "cell_type": "markdown",
   "metadata": {},
   "source": [
    "13- Write a program that takes a number from the user\n",
    "and applies the Collatz Conjecture rules:\n",
    "● If the number is even, divide it by 2.\n",
    "● If the number is odd, multiply it by 3 and add 1.\n",
    "Continue until the number becomes 1."
   ]
  },
  {
   "cell_type": "code",
   "execution_count": 88,
   "metadata": {},
   "outputs": [
    {
     "name": "stdout",
     "output_type": "stream",
     "text": [
      "16\n",
      "8.0\n",
      "4.0\n",
      "2.0\n",
      "1.0\n"
     ]
    }
   ],
   "source": [
    "x=input(\"enter the number\")\n",
    "if x.isdigit():\n",
    "    i=int(x)\n",
    "    while i!=1:\n",
    "        if i%2 == 0:\n",
    "            i=i / 2\n",
    "        else:\n",
    "            i=(i*3)+1\n",
    "        print(i) \n",
    "else:\n",
    "    print(\"invaled\")"
   ]
  }
 ],
 "metadata": {
  "kernelspec": {
   "display_name": "Python 3",
   "language": "python",
   "name": "python3"
  },
  "language_info": {
   "codemirror_mode": {
    "name": "ipython",
    "version": 3
   },
   "file_extension": ".py",
   "mimetype": "text/x-python",
   "name": "python",
   "nbconvert_exporter": "python",
   "pygments_lexer": "ipython3",
   "version": "3.13.0"
  }
 },
 "nbformat": 4,
 "nbformat_minor": 2
}
