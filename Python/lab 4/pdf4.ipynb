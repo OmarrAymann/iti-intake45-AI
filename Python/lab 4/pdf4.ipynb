{
 "cells": [
  {
   "cell_type": "code",
   "execution_count": null,
   "metadata": {},
   "outputs": [],
   "source": []
  },
  {
   "cell_type": "code",
   "execution_count": null,
   "metadata": {},
   "outputs": [
    {
     "name": "stdout",
     "output_type": "stream",
     "text": [
      "120.0\n",
      "80.0\n"
     ]
    }
   ],
   "source": [
    "#######helper \n",
    "class emp:\n",
    "    def __init__(self,name,salary):\n",
    "        self.name=name \n",
    "        self.salary=salary\n",
    "\n",
    "\n",
    "    #helper every one can use it\n",
    "    @staticmethod\n",
    "    def netsalary(salary):\n",
    "        return salary*0.8\n",
    "\n",
    "print(emp.netsalary(150))\n",
    "\n",
    "e1=emp('ygy',100)\n",
    "\n",
    "def netsalary(salary):\n",
    "    return salary*0.8\n",
    "print(netsalary(e1.salary))\n",
    "\n",
    "\n"
   ]
  },
  {
   "cell_type": "code",
   "execution_count": 2,
   "metadata": {},
   "outputs": [
    {
     "name": "stdout",
     "output_type": "stream",
     "text": [
      "{'name': 'uhu', 'salary': 656}\n"
     ]
    }
   ],
   "source": [
    "class employee:\n",
    "    comission =10\n",
    "    def __init__(self,name,salary=1000):\n",
    "        self.name=name\n",
    "        self.salary=salary\n",
    "\n",
    "    #used as oblect factory\n",
    "    @classmethod\n",
    "    def create(cls):\n",
    "        return cls('gygy',1020)\n",
    "    \n",
    "e1= employee ('uhu',656)\n",
    "print(e1.__dict__)"
   ]
  },
  {
   "cell_type": "code",
   "execution_count": null,
   "metadata": {},
   "outputs": [],
   "source": [
    "class employee:\n",
    "    comission =10\n",
    "    def __init__(self,name,salary=1000):\n",
    "        self.name=name\n",
    "        self.salary=salary\n",
    "    def __init__(self,name,salary=1000):\n",
    "        self.name='abc'\n",
    "        self.salary=salary\n",
    "#overloading in python not allow \n",
    "e=employee('asd',200)\n"
   ]
  },
  {
   "cell_type": "code",
   "execution_count": null,
   "metadata": {},
   "outputs": [],
   "source": [
    "class employee:\n",
    "    comission =10\n",
    "    def __init__(self,name,salary=1000):\n",
    "        self.name=name\n",
    "        self.salary=salary\n",
    "\n",
    "    @classmethod\n",
    "    def modifycom(cls,newvalue):\n",
    "        if isinstance(newvalue,int):\n",
    "            cls.comission = newvalue\n",
    "\n",
    "emp=employee('omar',1000)\n",
    "\n"
   ]
  }
 ],
 "metadata": {
  "kernelspec": {
   "display_name": "Python 3",
   "language": "python",
   "name": "python3"
  },
  "language_info": {
   "codemirror_mode": {
    "name": "ipython",
    "version": 3
   },
   "file_extension": ".py",
   "mimetype": "text/x-python",
   "name": "python",
   "nbconvert_exporter": "python",
   "pygments_lexer": "ipython3",
   "version": "3.13.0"
  }
 },
 "nbformat": 4,
 "nbformat_minor": 2
}
