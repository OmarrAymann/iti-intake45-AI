{
 "cells": [
  {
   "cell_type": "markdown",
   "metadata": {},
   "source": [
    " Write a function that accepts two arguments (length, start) to \n",
    "generate an array of a specific length filled with integer numbers \n",
    "increased by one from start."
   ]
  },
  {
   "cell_type": "code",
   "execution_count": 2,
   "metadata": {},
   "outputs": [
    {
     "name": "stdout",
     "output_type": "stream",
     "text": [
      "2\n",
      "3\n",
      "4\n",
      "5\n",
      "6\n"
     ]
    }
   ],
   "source": [
    "def arr(num1: int , num2: int ):\n",
    "    if type(num1) == int and type(num2) == int:\n",
    "        for j in range (num2,num2+num1):\n",
    "            print(num2+j)\n",
    "        j+=1\n",
    "    else:\n",
    "        print(\"invalid input\")\n",
    "\n",
    "arr(5,1)"
   ]
  },
  {
   "cell_type": "markdown",
   "metadata": {},
   "source": [
    "write a function that takes a number as an argument and if the \n",
    "number divisible by 3 return \"Fizz\" and if it is divisible by 5 return \n",
    "\"buzz\" and if is is divisible by both return \"FizzBuzz\""
   ]
  },
  {
   "cell_type": "code",
   "execution_count": 26,
   "metadata": {},
   "outputs": [],
   "source": [
    "def arr(num1: int):\n",
    "    if type(num1) == int:\n",
    "        if (num1 % 5 == 0 and num1 % 3 == 0):\n",
    "            print(\"fizzbuzz\")\n",
    "        \n",
    "        elif (num1 % 5 == 0 ):\n",
    "            print(\"buzz\")\n",
    "        \n",
    "        elif (num1 % 3 == 0):\n",
    "            print(\"fizz\")\n",
    "\n",
    "    else:\n",
    "        print(\"invalid input\")\n",
    "\n",
    "arr(8)"
   ]
  },
  {
   "cell_type": "markdown",
   "metadata": {},
   "source": [
    "● Write a function which has an input of a string from user then it \n",
    "will return the same string reversed."
   ]
  },
  {
   "cell_type": "code",
   "execution_count": null,
   "metadata": {},
   "outputs": [
    {
     "name": "stdout",
     "output_type": "stream",
     "text": [
      "ramo\n"
     ]
    }
   ],
   "source": [
    "def rev(x : str):\n",
    "    x=input(\"enter ypur string : \")\n",
    "    if type(x)== str:\n",
    "        reversedx=\"\"\n",
    "        i =len(x)-1\n",
    "        while i>=0:\n",
    "            reversedx +=x[i]\n",
    "            i-=1\n",
    "        print(reversedx)\n",
    "        \n",
    "    else:\n",
    "        print(\"invalid\")\n",
    "    \n",
    "rev(\"enter your string : \")"
   ]
  },
  {
   "cell_type": "markdown",
   "metadata": {},
   "source": [
    "Ask the user for his name then confirm that he has entered his \n",
    "name(not an empty string/integers). then proceed to ask him for \n",
    "his email and print all this data (Bonus) check if it is a valid email \n",
    "or not\n"
   ]
  },
  {
   "cell_type": "code",
   "execution_count": 53,
   "metadata": {},
   "outputs": [
    {
     "name": "stdout",
     "output_type": "stream",
     "text": [
      "the name is :  omar\n",
      "the email :  omar@gmail.com\n"
     ]
    }
   ],
   "source": [
    "x=input(\"enter the name\")\n",
    "\n",
    "if x.isalpha():\n",
    "    y=input(\"enter your email\")\n",
    "    flag = 0\n",
    "    \n",
    "    for i in y:\n",
    "        if i in \"@\":\n",
    "            flag=1\n",
    "    if (flag==1):\n",
    "        print(\"the name is : \",x)\n",
    "        print (\"the email : \",y)\n",
    "    else:\n",
    "        print(\"invalid\")\n",
    "else:\n",
    "    print(\"invalid\")"
   ]
  },
  {
   "cell_type": "markdown",
   "metadata": {},
   "source": [
    "● Write a function that takes a string and prints the \n",
    "longest alphabetical ordered substring occurred For example, if \n",
    "the string is 'abdulrahman' then the output is: Longest substring in \n",
    "alphabetical order is: abdu"
   ]
  },
  {
   "cell_type": "code",
   "execution_count": 2,
   "metadata": {},
   "outputs": [
    {
     "name": "stdout",
     "output_type": "stream",
     "text": [
      "abcdefgxyzz\n"
     ]
    }
   ],
   "source": [
    "def longeststr(x: str):\n",
    "    if type(x)== str:\n",
    "        longstr = \"\"\n",
    "        z = \"\"\n",
    "        for i in range(len(x)):\n",
    "            if (i==0 or x[i]>=x[i-1]): \n",
    "                z +=x[i]\n",
    "                if len(z)>len(longstr):\n",
    "                    longstr = z\n",
    "            else:\n",
    "                z=x[i]\n",
    "        print(longstr)\n",
    "    else:\n",
    "         print(\"invalid\")\n",
    "\n",
    "longeststr(\"abcabcdabcdefgxyzzxz\")\n",
    "\n"
   ]
  },
  {
   "cell_type": "markdown",
   "metadata": {},
   "source": [
    "\n",
    "● Write a program which repeatedly reads numbers until the user \n",
    "enters “done”.\n",
    "○ Once “done” is entered, print out the total, count, and \n",
    "average of the numbers.\n",
    "○ If the user enters anything other than a number, detect their \n",
    "mistake, print an error message and skip to the next number."
   ]
  },
  {
   "cell_type": "code",
   "execution_count": 10,
   "metadata": {},
   "outputs": [
    {
     "name": "stdout",
     "output_type": "stream",
     "text": [
      "invalid\n",
      "45\n",
      "15.0\n"
     ]
    }
   ],
   "source": [
    "count=0\n",
    "average=0\n",
    "while True:\n",
    "    x=input(\"enter the number : \")\n",
    "\n",
    "    if (x == \"done\"):\n",
    "        break\n",
    "    elif (x.isdigit()):\n",
    "        count+=int(x)\n",
    "        average+=1\n",
    "    else:\n",
    "        print (\"invalid\")\n",
    "print(count)\n",
    "print(count/average)\n",
    "\n"
   ]
  },
  {
   "cell_type": "markdown",
   "metadata": {},
   "source": [
    "● Word guessing game (hangman)\n",
    "○ A list of words will be hardcoded in your program, out of \n",
    "which the interpreter will\n",
    "○ choose 1 random word.\n",
    "○ The user first must input their names\n",
    "○ Ask the user to guess any alphabet. If the random word \n",
    "contains that alphabet, it\n",
    "○ will be shown as the output(with correct placement)\n",
    "○ Else the program will ask you to guess another alphabet.\n",
    "○ Give 7 turns maximum to guess the complete word."
   ]
  },
  {
   "cell_type": "code",
   "execution_count": 1,
   "metadata": {},
   "outputs": [
    {
     "name": "stdout",
     "output_type": "stream",
     "text": [
      "invalid try again\n"
     ]
    },
    {
     "ename": "KeyboardInterrupt",
     "evalue": "Interrupted by user",
     "output_type": "error",
     "traceback": [
      "\u001b[1;31m---------------------------------------------------------------------------\u001b[0m",
      "\u001b[1;31mKeyboardInterrupt\u001b[0m                         Traceback (most recent call last)",
      "Cell \u001b[1;32mIn[1], line 6\u001b[0m\n\u001b[0;32m      4\u001b[0m counter\u001b[38;5;241m=\u001b[39m\u001b[38;5;241m7\u001b[39m\n\u001b[0;32m      5\u001b[0m \u001b[38;5;28;01mwhile\u001b[39;00m \u001b[38;5;28;01mTrue\u001b[39;00m:\n\u001b[1;32m----> 6\u001b[0m     inword\u001b[38;5;241m=\u001b[39m\u001b[38;5;28;43minput\u001b[39;49m\u001b[43m(\u001b[49m\u001b[38;5;124;43m\"\u001b[39;49m\u001b[38;5;124;43menter your guess : \u001b[39;49m\u001b[38;5;124;43m\"\u001b[39;49m\u001b[43m)\u001b[49m\n\u001b[0;32m      7\u001b[0m     \u001b[38;5;28;01mif\u001b[39;00m (counter\u001b[38;5;241m==\u001b[39m\u001b[38;5;241m1\u001b[39m):\n\u001b[0;32m      8\u001b[0m         \u001b[38;5;28mprint\u001b[39m(\u001b[38;5;124m\"\u001b[39m\u001b[38;5;124mfailed to guess\u001b[39m\u001b[38;5;124m\"\u001b[39m)\n",
      "File \u001b[1;32m~\\AppData\\Roaming\\Python\\Python313\\site-packages\\ipykernel\\kernelbase.py:1282\u001b[0m, in \u001b[0;36mKernel.raw_input\u001b[1;34m(self, prompt)\u001b[0m\n\u001b[0;32m   1280\u001b[0m     msg \u001b[38;5;241m=\u001b[39m \u001b[38;5;124m\"\u001b[39m\u001b[38;5;124mraw_input was called, but this frontend does not support input requests.\u001b[39m\u001b[38;5;124m\"\u001b[39m\n\u001b[0;32m   1281\u001b[0m     \u001b[38;5;28;01mraise\u001b[39;00m StdinNotImplementedError(msg)\n\u001b[1;32m-> 1282\u001b[0m \u001b[38;5;28;01mreturn\u001b[39;00m \u001b[38;5;28;43mself\u001b[39;49m\u001b[38;5;241;43m.\u001b[39;49m\u001b[43m_input_request\u001b[49m\u001b[43m(\u001b[49m\n\u001b[0;32m   1283\u001b[0m \u001b[43m    \u001b[49m\u001b[38;5;28;43mstr\u001b[39;49m\u001b[43m(\u001b[49m\u001b[43mprompt\u001b[49m\u001b[43m)\u001b[49m\u001b[43m,\u001b[49m\n\u001b[0;32m   1284\u001b[0m \u001b[43m    \u001b[49m\u001b[38;5;28;43mself\u001b[39;49m\u001b[38;5;241;43m.\u001b[39;49m\u001b[43m_parent_ident\u001b[49m\u001b[43m[\u001b[49m\u001b[38;5;124;43m\"\u001b[39;49m\u001b[38;5;124;43mshell\u001b[39;49m\u001b[38;5;124;43m\"\u001b[39;49m\u001b[43m]\u001b[49m\u001b[43m,\u001b[49m\n\u001b[0;32m   1285\u001b[0m \u001b[43m    \u001b[49m\u001b[38;5;28;43mself\u001b[39;49m\u001b[38;5;241;43m.\u001b[39;49m\u001b[43mget_parent\u001b[49m\u001b[43m(\u001b[49m\u001b[38;5;124;43m\"\u001b[39;49m\u001b[38;5;124;43mshell\u001b[39;49m\u001b[38;5;124;43m\"\u001b[39;49m\u001b[43m)\u001b[49m\u001b[43m,\u001b[49m\n\u001b[0;32m   1286\u001b[0m \u001b[43m    \u001b[49m\u001b[43mpassword\u001b[49m\u001b[38;5;241;43m=\u001b[39;49m\u001b[38;5;28;43;01mFalse\u001b[39;49;00m\u001b[43m,\u001b[49m\n\u001b[0;32m   1287\u001b[0m \u001b[43m\u001b[49m\u001b[43m)\u001b[49m\n",
      "File \u001b[1;32m~\\AppData\\Roaming\\Python\\Python313\\site-packages\\ipykernel\\kernelbase.py:1325\u001b[0m, in \u001b[0;36mKernel._input_request\u001b[1;34m(self, prompt, ident, parent, password)\u001b[0m\n\u001b[0;32m   1322\u001b[0m \u001b[38;5;28;01mexcept\u001b[39;00m \u001b[38;5;167;01mKeyboardInterrupt\u001b[39;00m:\n\u001b[0;32m   1323\u001b[0m     \u001b[38;5;66;03m# re-raise KeyboardInterrupt, to truncate traceback\u001b[39;00m\n\u001b[0;32m   1324\u001b[0m     msg \u001b[38;5;241m=\u001b[39m \u001b[38;5;124m\"\u001b[39m\u001b[38;5;124mInterrupted by user\u001b[39m\u001b[38;5;124m\"\u001b[39m\n\u001b[1;32m-> 1325\u001b[0m     \u001b[38;5;28;01mraise\u001b[39;00m \u001b[38;5;167;01mKeyboardInterrupt\u001b[39;00m(msg) \u001b[38;5;28;01mfrom\u001b[39;00m \u001b[38;5;28;01mNone\u001b[39;00m\n\u001b[0;32m   1326\u001b[0m \u001b[38;5;28;01mexcept\u001b[39;00m \u001b[38;5;167;01mException\u001b[39;00m:\n\u001b[0;32m   1327\u001b[0m     \u001b[38;5;28mself\u001b[39m\u001b[38;5;241m.\u001b[39mlog\u001b[38;5;241m.\u001b[39mwarning(\u001b[38;5;124m\"\u001b[39m\u001b[38;5;124mInvalid Message:\u001b[39m\u001b[38;5;124m\"\u001b[39m, exc_info\u001b[38;5;241m=\u001b[39m\u001b[38;5;28;01mTrue\u001b[39;00m)\n",
      "\u001b[1;31mKeyboardInterrupt\u001b[0m: Interrupted by user"
     ]
    }
   ],
   "source": [
    "words = [\"artificialintelligence\",\"machinelearning\",\"deeplearning\",\"omar\"]\n",
    "randomword = words.pop()\n",
    "guessedword = [''] * len(randomword)\n",
    "counter=7\n",
    "while True:\n",
    "    inword=input(\"enter your guess : \")\n",
    "    if (counter==1):\n",
    "        print(\"failed to guess\")\n",
    "        break\n",
    "    if (inword.isdigit() or len(inword) !=1):\n",
    "        print(\"invalid try again\")\n",
    "        counter-=1\n",
    "    else:\n",
    "        if inword in randomword:\n",
    "            for i , letter in enumerate(randomword):\n",
    "                if letter == inword:\n",
    "                    guessedword[i] = inword\n",
    "            print(guessedword)\n",
    "        else:\n",
    "            counter-=1\n",
    "            print(counter,\"try left\")\n",
    "\n",
    "    if (\"\".join(guessedword) == randomword):\n",
    "        print(\"you guessed right\")\n",
    "        break\n"
   ]
  }
 ],
 "metadata": {
  "kernelspec": {
   "display_name": "Python 3",
   "language": "python",
   "name": "python3"
  },
  "language_info": {
   "codemirror_mode": {
    "name": "ipython",
    "version": 3
   },
   "file_extension": ".py",
   "mimetype": "text/x-python",
   "name": "python",
   "nbconvert_exporter": "python",
   "pygments_lexer": "ipython3",
   "version": "3.13.0"
  }
 },
 "nbformat": 4,
 "nbformat_minor": 2
}
