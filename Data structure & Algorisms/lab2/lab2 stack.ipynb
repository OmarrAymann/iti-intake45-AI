{
 "cells": [
  {
   "cell_type": "markdown",
   "metadata": {},
   "source": [
    "2) save a stack of nodes ( 1 side linked list? push, pop for nodes ) \n",
    "\n",
    "- if the node is empty raise a message that the stack is empty"
   ]
  },
  {
   "cell_type": "code",
   "execution_count": 3,
   "metadata": {},
   "outputs": [],
   "source": [
    "import os\n",
    "import time"
   ]
  },
  {
   "cell_type": "code",
   "execution_count": 4,
   "metadata": {},
   "outputs": [],
   "source": [
    "class Node:\n",
    "    def __init__(self,data):\n",
    "        self.data=data\n",
    "        self.prev=None\n",
    "\n",
    "class Stack:\n",
    "    def __init__(self,size=2):\n",
    "        self.arr =[]\n",
    "        self.tos = 0\n",
    "        self.size = size\n",
    "        \n",
    "    def push(self,data):\n",
    "        pushed = False\n",
    "        if self.tos < self.size:\n",
    "            self.arr.append(data)\n",
    "            self.tos += 1\n",
    "            os.system(\"cls\")\n",
    "            print(\"Node pushed into the stack\")\n",
    "            time.sleep(2)\n",
    "            os.system(\"cls\")\n",
    "            pushed = True\n",
    "        else:\n",
    "            os.system(\"cls\")\n",
    "            print(\"Stack is full\")\n",
    "            time.sleep(2)\n",
    "            os.system(\"cls\")\n",
    "        return pushed\n",
    "    def pop(self):\n",
    "        #assume data is positive integer only\n",
    "        popped = -1\n",
    "        if self.tos > 0:\n",
    "            popped = self.arr.pop()\n",
    "            self.tos =self.tos - 1\n",
    "        return popped"
   ]
  },
  {
   "cell_type": "code",
   "execution_count": 5,
   "metadata": {},
   "outputs": [],
   "source": [
    "def menu():\n",
    "    stack = Stack()\n",
    "    while True:\n",
    "        print(\"1) Push\")\n",
    "        print(\"2) Pop\")\n",
    "        print(\"3) Exit\")\n",
    "        choice = input(\"Enter your choice: \")\n",
    "        if choice == '1':\n",
    "            os.system(\"cls\")\n",
    "            data = input(\" Enter data : \")\n",
    "            if data.isdigit() == False:\n",
    "                os.system(\"cls\")\n",
    "                print(\"Invalid data\")\n",
    "                time.sleep(2)\n",
    "                os.system(\"cls\")\n",
    "            else:\n",
    "                os.system(\"cls\")\n",
    "                stack.push(data)\n",
    "\n",
    "        elif choice == '2':\n",
    "            pop_node = stack.pop()\n",
    "            os.system(\"cls\")\n",
    "            if (pop_node != -1):\n",
    "                print(\"Data:\", pop_node)\n",
    "            else:\n",
    "                print(\"Stack is empty\")\n",
    "            time.sleep(2)\n",
    "            os.system(\"cls\")\n",
    "\n",
    "        elif choice == '3':\n",
    "            break\n",
    "        else:\n",
    "            os.system(\"cls\")\n",
    "            print(\"try again\")\n",
    "            time.sleep(2)\n",
    "            os.system(\"cls\")\n"
   ]
  },
  {
   "cell_type": "code",
   "execution_count": 6,
   "metadata": {},
   "outputs": [
    {
     "name": "stdout",
     "output_type": "stream",
     "text": [
      "1) Push\n",
      "2) Pop\n",
      "3) Exit\n",
      "Node pushed into the stack\n",
      "1) Push\n",
      "2) Pop\n",
      "3) Exit\n",
      " data : f\n",
      "1) Push\n",
      "2) Pop\n",
      "3) Exit\n",
      "try again\n",
      "1) Push\n",
      "2) Pop\n",
      "3) Exit\n",
      "try again\n",
      "1) Push\n",
      "2) Pop\n",
      "3) Exit\n",
      "try again\n",
      "1) Push\n",
      "2) Pop\n",
      "3) Exit\n"
     ]
    }
   ],
   "source": [
    "menu()"
   ]
  }
 ],
 "metadata": {
  "kernelspec": {
   "display_name": "Python 3",
   "language": "python",
   "name": "python3"
  },
  "language_info": {
   "codemirror_mode": {
    "name": "ipython",
    "version": 3
   },
   "file_extension": ".py",
   "mimetype": "text/x-python",
   "name": "python",
   "nbconvert_exporter": "python",
   "pygments_lexer": "ipython3",
   "version": "3.13.1"
  }
 },
 "nbformat": 4,
 "nbformat_minor": 2
}
