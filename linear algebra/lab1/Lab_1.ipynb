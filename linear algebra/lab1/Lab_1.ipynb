{
  "cells": [
    {
      "cell_type": "markdown",
      "metadata": {
        "id": "HMajfy7QEZFl"
      },
      "source": [
        "# LAB 1: Matrix and Vector Computations in python\n",
        "In this lab you will use python to study the following topics:\n",
        "\n",
        "- How to create matrices and vectors in python.\n",
        "\n",
        "- How to manipulate matrices in python and create matrices of special types.\n",
        "\n",
        "- How to add matrices and multiply a vector by a matrix by python.\n",
        "\n",
        "- Solving System of Linear Equations Using Gaussian Elimination.\n",
        "\n",
        "- Matrix Multiplication using Different views."
      ]
    },
    {
      "cell_type": "markdown",
      "metadata": {
        "id": "qsF0gXHDEZFn"
      },
      "source": [
        "# First: you should run this cell"
      ]
    },
    {
      "cell_type": "code",
      "execution_count": 1,
      "metadata": {
        "id": "3NOhO4_mEZFo"
      },
      "outputs": [],
      "source": [
        "# Make all numpy available via shorter 'np' prefix\n",
        "import numpy as np\n",
        "\n",
        "import sympy as sym"
      ]
    },
    {
      "cell_type": "markdown",
      "metadata": {
        "id": "pn4dDtQ3EZFp"
      },
      "source": [
        "# Question 1 :Declaring scalars, vectors, and matrices\n",
        "\n",
        "a) Use [numpy.array](https://numpy.org/doc/stable/reference/generated/numpy.array.html) to declare the following:\n",
        "\n",
        "1. A scalar $s = 5$\n",
        "2. A vector $v = \\begin{bmatrix} 5  \\\\ -2 \\\\ 4  \\\\ \\end{bmatrix}$\n",
        "3. A matrix $A = \\begin{bmatrix} 1 & 2 & 3  \\\\ 4 & 5 & 6 \\\\ 7 & 8 & 9  \\\\ \\end{bmatrix}$\n",
        "4. A matrix $B = \\begin{bmatrix} 1 & 2 & 3  \\\\ 4 & 5 & 6 \\\\ \\end{bmatrix}$\n",
        "5. A matrix $C = \\begin{bmatrix} 1 & 2   \\\\ 3 & 4  \\\\ 5 & 6   \\\\ \\end{bmatrix}$"
      ]
    },
    {
      "cell_type": "code",
      "source": [
        "s = np.array(5)\n",
        "\n",
        "v = np.array([[5],[-2],[4]])\n",
        "\n",
        "A = np.array([[1, 2, 3],[4, 5, 6],[7, 8, 9]])\n",
        "\n",
        "B = np.array([[1, 2, 3],[4, 5, 6]])\n",
        "\n",
        "C = np.array([[1, 2],[3, 4],[5, 6]])\n",
        "\n",
        "print(f\"s={s}\")\n",
        "print(f\"v={v}\")\n",
        "print(f\"A={A}\")\n",
        "print(f\"B={B}\")\n",
        "print(f\"C={C}\")\n"
      ],
      "metadata": {
        "colab": {
          "base_uri": "https://localhost:8080/"
        },
        "id": "NSf1U4iUEgV0",
        "outputId": "11ca9cdb-723a-4d95-b24e-58fbadabeec9"
      },
      "execution_count": null,
      "outputs": [
        {
          "output_type": "stream",
          "name": "stdout",
          "text": [
            "s=5\n",
            "v=[[ 5]\n",
            " [-2]\n",
            " [ 4]]\n",
            "A=[[1 2 3]\n",
            " [4 5 6]\n",
            " [7 8 9]]\n",
            "B=[[1 2 3]\n",
            " [4 5 6]]\n",
            "C=[[1 2]\n",
            " [3 4]\n",
            " [5 6]]\n"
          ]
        }
      ]
    },
    {
      "cell_type": "code",
      "execution_count": null,
      "metadata": {
        "id": "hc-uo0jBEZFq",
        "outputId": "81ca8f60-9961-41d1-d4b7-221da1a22686"
      },
      "outputs": [
        {
          "name": "stdout",
          "output_type": "stream",
          "text": [
            "s = 5\n",
            "\n",
            "v =\n",
            " [[ 5]\n",
            " [-2]\n",
            " [ 4]]\n",
            "\n",
            "A =\n",
            " [[1 2 3]\n",
            " [4 5 6]\n",
            " [7 8 9]]\n",
            "\n",
            "B =\n",
            " [[1 2 3]\n",
            " [4 5 6]]\n",
            "\n",
            "C =\n",
            " [[1 2]\n",
            " [3 4]\n",
            " [5 6]]\n",
            "\n"
          ]
        }
      ],
      "source": [
        "#type your code here:\n"
      ]
    },
    {
      "cell_type": "markdown",
      "metadata": {
        "id": "7BQLbWo1EZFr"
      },
      "source": [
        "b) Print the data type of $s, v,$ and $A$ using `type` command in python."
      ]
    },
    {
      "cell_type": "code",
      "source": [
        "print(type(s))\n",
        "print(type(v))\n",
        "print(type(A))"
      ],
      "metadata": {
        "colab": {
          "base_uri": "https://localhost:8080/"
        },
        "id": "2O_gO500EiSN",
        "outputId": "2d5a33d5-6984-4c84-cd34-6fdc0e837660"
      },
      "execution_count": null,
      "outputs": [
        {
          "output_type": "stream",
          "name": "stdout",
          "text": [
            "<class 'numpy.ndarray'>\n",
            "<class 'numpy.ndarray'>\n",
            "<class 'numpy.ndarray'>\n"
          ]
        }
      ]
    },
    {
      "cell_type": "code",
      "execution_count": null,
      "metadata": {
        "id": "2XaogoZcEZFr",
        "outputId": "caf2c464-279a-4334-a501-6483e70ce4c3"
      },
      "outputs": [
        {
          "name": "stdout",
          "output_type": "stream",
          "text": [
            "type(s) = <class 'numpy.ndarray'>\n",
            "\n",
            "type(v) = <class 'numpy.ndarray'>\n",
            "\n",
            "type(A) = <class 'numpy.ndarray'>\n",
            "\n"
          ]
        }
      ],
      "source": [
        "#type your code here:\n"
      ]
    },
    {
      "cell_type": "markdown",
      "metadata": {
        "id": "p5oPTsEnEZFr"
      },
      "source": [
        "c) Using [numpy.shape](https://numpy.org/devdocs/reference/generated/numpy.shape.html) or `A.shape` print the shape of $s, v, A, B,$ and $C$."
      ]
    },
    {
      "cell_type": "code",
      "source": [
        "print(s.shape)\n",
        "print(v.shape)\n",
        "print(A.shape)\n",
        "print(B.shape)\n",
        "print(C.shape)"
      ],
      "metadata": {
        "colab": {
          "base_uri": "https://localhost:8080/"
        },
        "id": "KiURQ9c_EpTf",
        "outputId": "090ffc1f-26d0-4212-d058-96e3fbd76e83"
      },
      "execution_count": null,
      "outputs": [
        {
          "output_type": "stream",
          "name": "stdout",
          "text": [
            "()\n",
            "(3, 1)\n",
            "(3, 3)\n",
            "(2, 3)\n",
            "(3, 2)\n"
          ]
        }
      ]
    },
    {
      "cell_type": "code",
      "execution_count": null,
      "metadata": {
        "id": "nmIuulA6EZFr",
        "outputId": "f53e2949-9522-48c6-e88b-f29eea92ae10"
      },
      "outputs": [
        {
          "name": "stdout",
          "output_type": "stream",
          "text": [
            "s.shape = ()\n",
            "\n",
            "v.shape = (3, 1)\n",
            "\n",
            "A.shape = (3, 3)\n",
            "\n",
            "B.shape = (2, 3)\n",
            "\n",
            "C.shape = (3, 2)\n",
            "\n"
          ]
        }
      ],
      "source": [
        "#type your code here:\n"
      ]
    },
    {
      "cell_type": "markdown",
      "metadata": {
        "id": "g8FosUYVEZFs"
      },
      "source": [
        "d) To access a given entry in the `numpy array` put the `row number - 1` and `column number - 1` in square brackets following the array name. Ex `a32 = A[2, 1]`.\n",
        "- Print the value of the third row and the second column of the matrix $A$.\n",
        "- Change it to $10$.\n",
        "- Print the matrix A to check the entry is changed."
      ]
    },
    {
      "cell_type": "code",
      "source": [
        "a=A[2,1]\n",
        "print(a)\n",
        "A[2,1]=10\n",
        "print(A)"
      ],
      "metadata": {
        "colab": {
          "base_uri": "https://localhost:8080/"
        },
        "id": "izYbeyRfEryr",
        "outputId": "a3501aad-86ca-46a5-d2d4-0cc92f7413c8"
      },
      "execution_count": null,
      "outputs": [
        {
          "output_type": "stream",
          "name": "stdout",
          "text": [
            "8\n",
            "[[ 1  2  3]\n",
            " [ 4  5  6]\n",
            " [ 7 10  9]]\n"
          ]
        }
      ]
    },
    {
      "cell_type": "code",
      "execution_count": null,
      "metadata": {
        "id": "JceK6qhxEZFs",
        "outputId": "6824b814-2e90-44ac-adca-56c728be2439"
      },
      "outputs": [
        {
          "name": "stdout",
          "output_type": "stream",
          "text": [
            "A[2, 1] =  8\n",
            "\n",
            "A =\n",
            " [[ 1  2  3]\n",
            " [ 4  5  6]\n",
            " [ 7 10  9]]\n",
            "\n"
          ]
        }
      ],
      "source": [
        "#type your code here:\n"
      ]
    },
    {
      "cell_type": "markdown",
      "metadata": {
        "id": "XNbtMQfREZFs"
      },
      "source": [
        "e)To access a whole row or column of a matrix, use the colon operator. For example, `A[:, [1]]` is the second column of A, while `B[[1], :]` is the second row of B."
      ]
    },
    {
      "cell_type": "code",
      "source": [
        "a=A[:,[1]]\n",
        "b=B[[1], :]\n",
        "print(f\"a=A[:,[1]]={a}\")\n",
        "print(f\"b=B[[1], :]={b}\")"
      ],
      "metadata": {
        "colab": {
          "base_uri": "https://localhost:8080/"
        },
        "id": "qqxNdoFMMrht",
        "outputId": "d709e605-8fb3-4713-d6a1-15d9a19fe573"
      },
      "execution_count": null,
      "outputs": [
        {
          "output_type": "stream",
          "name": "stdout",
          "text": [
            "a=A[:,[1]]=[[ 2]\n",
            " [ 5]\n",
            " [10]]\n",
            "b=B[[1], :]=[[4 5 6]]\n"
          ]
        }
      ]
    },
    {
      "cell_type": "code",
      "execution_count": null,
      "metadata": {
        "id": "KhPbV1kYEZFt",
        "outputId": "2368208a-be8b-45a2-c902-4ecc7f63cead"
      },
      "outputs": [
        {
          "name": "stdout",
          "output_type": "stream",
          "text": [
            "A[:, [1]] =\n",
            " [[ 2]\n",
            " [ 5]\n",
            " [10]]\n",
            "\n",
            "B[[1], :] =\n",
            " [[4 5 6]]\n",
            "\n"
          ]
        }
      ],
      "source": [
        "#type your code here:\n"
      ]
    },
    {
      "cell_type": "markdown",
      "metadata": {
        "id": "8Su2A3skEZFt"
      },
      "source": [
        "f) Type each of the following commands that generate special matrices:\n",
        "- `np.eye(4), np.zeros(3), np.zeros((3, 1)), np.zeros((3, 5)), np.ones((2, 3)), and np.diag([4, 5, 6, 7])`"
      ]
    },
    {
      "cell_type": "code",
      "source": [
        "a=np.eye(4)\n",
        "b=np.zeros(3)\n",
        "c=np.zeros((3, 1))\n",
        "d=np.zeros((3, 5))\n",
        "e=np.ones((2, 3))\n",
        "f=np.diag([4, 5, 6, 7])\n",
        "print(f\"np.eye(4)={a}\")\n",
        "print(f\" np.zeros(3)={b}\")\n",
        "print(f\"np.zeros((3, 1))={c}\")\n",
        "print(f\" np.zeros((3, 5))={d}\")\n",
        "print(f\"np.ones((2, 3))={e}\")\n",
        "print(f\"np.diag([4, 5, 6, 7])={f}\")"
      ],
      "metadata": {
        "colab": {
          "base_uri": "https://localhost:8080/"
        },
        "id": "RdJTxxyWNw5C",
        "outputId": "81c9f7d4-0201-4c23-c65a-04530a720a54"
      },
      "execution_count": null,
      "outputs": [
        {
          "output_type": "stream",
          "name": "stdout",
          "text": [
            "np.eye(4)=[[1. 0. 0. 0.]\n",
            " [0. 1. 0. 0.]\n",
            " [0. 0. 1. 0.]\n",
            " [0. 0. 0. 1.]]\n",
            " np.zeros(3)=[0. 0. 0.]\n",
            "np.zeros((3, 1))=[[0.]\n",
            " [0.]\n",
            " [0.]]\n",
            " np.zeros((3, 5))=[[0. 0. 0. 0. 0.]\n",
            " [0. 0. 0. 0. 0.]\n",
            " [0. 0. 0. 0. 0.]]\n",
            "np.ones((2, 3))=[[1. 1. 1.]\n",
            " [1. 1. 1.]]\n",
            "np.diag([4, 5, 6, 7])=[[4 0 0 0]\n",
            " [0 5 0 0]\n",
            " [0 0 6 0]\n",
            " [0 0 0 7]]\n"
          ]
        }
      ]
    },
    {
      "cell_type": "code",
      "execution_count": null,
      "metadata": {
        "id": "i7qpIsmIEZFt",
        "outputId": "187cb78a-f719-40dd-989a-975e12455a6e"
      },
      "outputs": [
        {
          "name": "stdout",
          "output_type": "stream",
          "text": [
            "np.eye(4) =\n",
            " [[1. 0. 0. 0.]\n",
            " [0. 1. 0. 0.]\n",
            " [0. 0. 1. 0.]\n",
            " [0. 0. 0. 1.]]\n",
            "\n",
            "np.zeros(3) =\n",
            " [0. 0. 0.]\n",
            "\n",
            "np.zeros(3, 1) =\n",
            " [[0.]\n",
            " [0.]\n",
            " [0.]]\n",
            "\n",
            "np.zeros(3, 5) =\n",
            " [[0. 0. 0. 0. 0.]\n",
            " [0. 0. 0. 0. 0.]\n",
            " [0. 0. 0. 0. 0.]]\n",
            "\n",
            "np.ones(2, 3) =\n",
            " [[1. 1. 1.]\n",
            " [1. 1. 1.]]\n",
            "\n",
            "np.diag([4 5 6 7]) =\n",
            " [[4 0 0 0]\n",
            " [0 5 0 0]\n",
            " [0 0 6 0]\n",
            " [0 0 0 7]]\n"
          ]
        }
      ],
      "source": [
        "#type your code here:\n"
      ]
    },
    {
      "cell_type": "markdown",
      "metadata": {
        "id": "mii7auA2EZFt"
      },
      "source": [
        "# Question 2. Vectors Addition, Scaling, and dot product"
      ]
    },
    {
      "cell_type": "markdown",
      "metadata": {
        "id": "W3k8PVSTEZFt"
      },
      "source": [
        "a) Declare vectors $v1 = \\begin{bmatrix} 1  \\\\ 2 \\\\ 7  \\\\ 4 \\\\ \\end{bmatrix}$ and $v2 = \\begin{bmatrix} 4  \\\\ 3 \\\\ 6  \\\\ 8 \\\\ \\end{bmatrix}$\n",
        "\n",
        "- Addition: $v1 + v2$\n",
        "- Subtraction: $v1 - v2$\n",
        "- Scaling by a number: $3 * v1$\n",
        "- Scaling by a number: $v1 / 2$"
      ]
    },
    {
      "cell_type": "code",
      "source": [
        "v1 = np.array([[1],[2],[7],[4]])\n",
        "v2 = np.array([[4],[3],[6],[8]])\n",
        "print(f\"v1={v1}\")\n",
        "print(f\"v2={v2}\")\n",
        "print(f\"v1+v2={v1+v2}\")\n",
        "print(f\"v1-v2={v1-v2}\")\n",
        "print(f\"3*v1={3*v1}\")\n",
        "print(f\"v1/2={v1/2}\")"
      ],
      "metadata": {
        "colab": {
          "base_uri": "https://localhost:8080/"
        },
        "id": "pJQTjW12OB2D",
        "outputId": "6340ee0c-c8da-49bc-81f7-ea64271e6b37"
      },
      "execution_count": null,
      "outputs": [
        {
          "output_type": "stream",
          "name": "stdout",
          "text": [
            "v1=[[1]\n",
            " [2]\n",
            " [7]\n",
            " [4]]\n",
            "v2=[[4]\n",
            " [3]\n",
            " [6]\n",
            " [8]]\n",
            "v1+v2=[[ 5]\n",
            " [ 5]\n",
            " [13]\n",
            " [12]]\n",
            "v1-v2=[[-3]\n",
            " [-1]\n",
            " [ 1]\n",
            " [-4]]\n",
            "3*v1=[[ 3]\n",
            " [ 6]\n",
            " [21]\n",
            " [12]]\n",
            "v1/2=[[0.5]\n",
            " [1. ]\n",
            " [3.5]\n",
            " [2. ]]\n"
          ]
        }
      ]
    },
    {
      "cell_type": "code",
      "execution_count": null,
      "metadata": {
        "id": "K2iGZ6B3EZFu",
        "outputId": "90d9fd2f-0bec-4b9c-adaf-f7799556b269"
      },
      "outputs": [
        {
          "name": "stdout",
          "output_type": "stream",
          "text": [
            "v1 =\n",
            " [[1]\n",
            " [2]\n",
            " [7]\n",
            " [4]]\n",
            "\n",
            "v2 =\n",
            " [[4]\n",
            " [3]\n",
            " [6]\n",
            " [8]]\n",
            "\n",
            "v1 + v2 =\n",
            " [[ 5]\n",
            " [ 5]\n",
            " [13]\n",
            " [12]]\n",
            "\n",
            "v1 - v2 =\n",
            " [[-3]\n",
            " [-1]\n",
            " [ 1]\n",
            " [-4]]\n",
            "\n",
            "3*v1 =\n",
            " [[ 3]\n",
            " [ 6]\n",
            " [21]\n",
            " [12]]\n",
            "\n",
            "v1/2 =\n",
            " [[0.5]\n",
            " [1. ]\n",
            " [3.5]\n",
            " [2. ]]\n",
            "\n"
          ]
        }
      ],
      "source": [
        "#type your code here:\n"
      ]
    },
    {
      "cell_type": "markdown",
      "metadata": {
        "id": "Qej8m-o6EZFu"
      },
      "source": [
        "b) Find the dot product between the two vectors $v1$ and $v2$ using the following:\n",
        "\n",
        "- [numpy.dot](https://numpy.org/doc/stable/reference/generated/numpy.dot.html)\n",
        "- [numpy.matmul](https://numpy.org/doc/stable/reference/generated/numpy.matmul.html#numpy.matmul)\n",
        "- `v1.T @ v2`"
      ]
    },
    {
      "cell_type": "code",
      "source": [
        "a=np.dot(v1.T, v2)\n",
        "b=np.matmul(v1.T, v2)\n",
        "c=v1.T @ v2\n",
        "print(f\"np.dot(v1.T, v2)={a}\")\n",
        "print(f\"np.matmul(v1.T, v2)={b}\")\n",
        "print(f\"v1.T @ v2={c}\")"
      ],
      "metadata": {
        "colab": {
          "base_uri": "https://localhost:8080/"
        },
        "id": "MAPTpe5IPn4q",
        "outputId": "f7cfd025-d833-4e77-f6c1-fd5e5f7394a6"
      },
      "execution_count": null,
      "outputs": [
        {
          "output_type": "stream",
          "name": "stdout",
          "text": [
            "np.dot(v1.T, v2)=[[84]]\n",
            "np.matmul(v1.T, v2)=[[84]]\n",
            "v1.T @ v2=[[84]]\n"
          ]
        }
      ]
    },
    {
      "cell_type": "code",
      "execution_count": null,
      "metadata": {
        "id": "ZhoWhwOvEZFu",
        "outputId": "1020a84f-0421-4697-aada-3d4e4d231cad"
      },
      "outputs": [
        {
          "name": "stdout",
          "output_type": "stream",
          "text": [
            "Using numpy.dot =\n",
            " [[84]]\n",
            "\n",
            "Using numpy.matmul =\n",
            " [[84]]\n",
            "\n",
            "Using @ =\n",
            " [[84]]\n",
            "\n"
          ]
        }
      ],
      "source": [
        "#type your code here:\n"
      ]
    },
    {
      "cell_type": "markdown",
      "metadata": {
        "id": "zoXEEgD-EZFu"
      },
      "source": [
        "c) Find the length of the vectors $v1$ and $v2$.\n",
        "- Using [numpy.linalg.norm](https://numpy.org/doc/stable/reference/generated/numpy.linalg.norm.html)\n",
        "- Using the dot product and [numpy.sqrt](https://numpy.org/doc/stable/reference/generated/numpy.sqrt.html)\n"
      ]
    },
    {
      "cell_type": "code",
      "source": [
        "a=np.linalg.norm(v1)\n",
        "b=np.linalg.norm(v2)\n",
        "print(f\"np.linalg.norm(v1)={a}\")\n",
        "print(f\"np.linalg.norm(v2)={b}\")\n",
        "c=np.sqrt(np.dot(v1.T, v1))\n",
        "d=np.sqrt(np.dot(v2.T, v2))\n",
        "print(f\"np.sqrt(np.dot(v1.T, v1))={c}\")\n",
        "print(f\"np.sqrt(np.dot(v2.T, v2))={d}\")"
      ],
      "metadata": {
        "colab": {
          "base_uri": "https://localhost:8080/"
        },
        "id": "CBkePMQtQsGL",
        "outputId": "2b856d25-45a1-4949-d7c7-552517b74111"
      },
      "execution_count": null,
      "outputs": [
        {
          "output_type": "stream",
          "name": "stdout",
          "text": [
            "np.linalg.norm(v1)=8.366600265340756\n",
            "np.linalg.norm(v2)=11.180339887498949\n",
            "np.sqrt(np.dot(v1.T, v1))=[[8.36660027]]\n",
            "np.sqrt(np.dot(v2.T, v2))=[[11.18033989]]\n"
          ]
        }
      ]
    },
    {
      "cell_type": "code",
      "execution_count": null,
      "metadata": {
        "id": "nH175adMEZFv",
        "outputId": "60d71e3c-9a96-48ac-9f65-b7732547251a"
      },
      "outputs": [
        {
          "name": "stdout",
          "output_type": "stream",
          "text": [
            "length of v1 Using numpy.linalg.norm =\n",
            " 8.366600265340756\n",
            "\n",
            "length of v2 Using numpy.linalg.norm =\n",
            " 11.180339887498949\n",
            "\n",
            "length of v1 Using the dot product and numpy.sqrt =\n",
            " [[8.36660027]]\n",
            "\n",
            "length of v2 Using the dot product and numpy.sqrt =\n",
            " [[11.18033989]]\n",
            "\n"
          ]
        }
      ],
      "source": [
        "#type your code here:\n"
      ]
    },
    {
      "cell_type": "markdown",
      "metadata": {
        "id": "3_-PYMmWEZFv"
      },
      "source": [
        "d) Show that the vectors $u = \\begin{bmatrix} 3  \\\\ 2 \\\\ -1  \\\\ 4 \\\\ \\end{bmatrix}$ and $v = \\begin{bmatrix} 1  \\\\ -1 \\\\ 1  \\\\ 0 \\\\ \\end{bmatrix}$ are orthogonal.\n"
      ]
    },
    {
      "cell_type": "code",
      "source": [
        "u=np.array([[3],[2],[-1],[4]])\n",
        "v=np.array([[1],[-1],[1],[0]])\n",
        "print(f\"u={u}\")\n",
        "print(f\"v={v}\")\n",
        "c=u.T @ v\n",
        "print(f\"u.T@v={c}\")"
      ],
      "metadata": {
        "colab": {
          "base_uri": "https://localhost:8080/"
        },
        "id": "b8JeStyGSYZJ",
        "outputId": "0135a577-2547-4301-a7ea-fbf6b0cebd58"
      },
      "execution_count": null,
      "outputs": [
        {
          "output_type": "stream",
          "name": "stdout",
          "text": [
            "u=[[ 3]\n",
            " [ 2]\n",
            " [-1]\n",
            " [ 4]]\n",
            "v=[[ 1]\n",
            " [-1]\n",
            " [ 1]\n",
            " [ 0]]\n",
            "u.T@v=[[0]]\n"
          ]
        }
      ]
    },
    {
      "cell_type": "code",
      "execution_count": null,
      "metadata": {
        "id": "qc7-K14YEZFv",
        "outputId": "aa91d181-3d36-461c-d00e-5f06f4d3a21f"
      },
      "outputs": [
        {
          "name": "stdout",
          "output_type": "stream",
          "text": [
            "u.T @ v =\n",
            " [[0]]\n",
            "\n"
          ]
        }
      ],
      "source": [
        "#type your code here:\n"
      ]
    },
    {
      "cell_type": "markdown",
      "metadata": {
        "id": "x8RIIiVjEZFv"
      },
      "source": [
        "# Question 3. Matrix Addition and Matrix-Vector Multiplication\n",
        "\n",
        "Declare vectors $u$ and $v$ and matrices $A$ and $B$ as following:\n",
        "- $u = \\begin{bmatrix} 2  \\\\ 7 \\\\ 2 \\\\ \\end{bmatrix}$, $v = \\begin{bmatrix} 8  \\\\ 2 \\\\ 4 \\\\ \\end{bmatrix}$\n",
        "- $A = \\begin{bmatrix} 7 & 3 & 5  \\\\ 4 & 6 & 2 \\\\ \\end{bmatrix}$, $B = \\begin{bmatrix} 0 & 6 & 4  \\\\ 2 & 3 & 0 \\\\ \\end{bmatrix}$\n",
        "\n",
        "a) Calculate the following using python.\n",
        "\n",
        "- $A+B$\n",
        "- $B+A$\n",
        "- $3A$\n",
        "- $6B$\n",
        "- $2(3B)$\n",
        "- $6A+15B$\n",
        "- $3(2A+5B)$\n",
        "- $(3A^T)^T$"
      ]
    },
    {
      "cell_type": "code",
      "source": [
        "u=np.array([[2],[7],[2]])\n",
        "v=np.array([[8],[2],[4]])\n",
        "A=np.array([[7,3,5],[4,6,2]])\n",
        "B=np.array([[0,6,4],[2,3,0]])\n",
        "print(f\"u={u}\")\n",
        "print(f\"v={v}\")\n",
        "print(f\"A={A}\")\n",
        "print(f\"B={B}\")\n",
        "print(f\"A+B={A+B}\")\n",
        "print(f\"B+A={B+A}\")\n",
        "print(f\"3*A={3*A}\")\n",
        "print(f\"6*B={6*B}\")\n",
        "print(f\"2*(3*B)={2*(3*B)}\")\n",
        "print(f\"6*A+15*B={6*A+15*B}\")\n",
        "print(f\"3*(2*A+5*B)={3*(2*A+5*B)}\")\n",
        "print(f\"(3*A^T)^T={np.transpose(np.transpose(3*A))}\")\n"
      ],
      "metadata": {
        "colab": {
          "base_uri": "https://localhost:8080/"
        },
        "id": "90QPcDPMSzTj",
        "outputId": "81e15524-a17a-4d4f-bc08-3736f5216446"
      },
      "execution_count": null,
      "outputs": [
        {
          "output_type": "stream",
          "name": "stdout",
          "text": [
            "u=[[2]\n",
            " [7]\n",
            " [2]]\n",
            "v=[[8]\n",
            " [2]\n",
            " [4]]\n",
            "A=[[7 3 5]\n",
            " [4 6 2]]\n",
            "B=[[0 6 4]\n",
            " [2 3 0]]\n",
            "A+B=[[7 9 9]\n",
            " [6 9 2]]\n",
            "B+A=[[7 9 9]\n",
            " [6 9 2]]\n",
            "3*A=[[21  9 15]\n",
            " [12 18  6]]\n",
            "6*B=[[ 0 36 24]\n",
            " [12 18  0]]\n",
            "2*(3*B)=[[ 0 36 24]\n",
            " [12 18  0]]\n",
            "6*A+15*B=[[ 42 108  90]\n",
            " [ 54  81  12]]\n",
            "3*(2*A+5*B)=[[ 42 108  90]\n",
            " [ 54  81  12]]\n",
            "(3*A^T)^T=[[21  9 15]\n",
            " [12 18  6]]\n"
          ]
        }
      ]
    },
    {
      "cell_type": "code",
      "execution_count": null,
      "metadata": {
        "id": "ncov2kxXEZFw",
        "outputId": "fe4bebd7-5090-4a8e-8748-99b9a7400068"
      },
      "outputs": [
        {
          "name": "stdout",
          "output_type": "stream",
          "text": [
            "u =\n",
            " [[2]\n",
            " [7]\n",
            " [2]]\n",
            "\n",
            "v =\n",
            " [[8]\n",
            " [2]\n",
            " [4]]\n",
            "\n",
            "A =\n",
            " [[7 3 5]\n",
            " [4 6 2]]\n",
            "\n",
            "B =\n",
            " [[0 6 4]\n",
            " [2 3 0]]\n",
            "\n",
            "A + B =\n",
            " [[7 9 9]\n",
            " [6 9 2]]\n",
            "\n",
            "B + A =\n",
            " [[7 9 9]\n",
            " [6 9 2]]\n",
            "\n",
            "3A =\n",
            " [[21  9 15]\n",
            " [12 18  6]]\n",
            "\n",
            "6B =\n",
            " [[ 0 36 24]\n",
            " [12 18  0]]\n",
            "\n",
            "2(3B) =\n",
            " [[ 0 36 24]\n",
            " [12 18  0]]\n",
            "\n",
            "6A + 15B =\n",
            " [[ 42 108  90]\n",
            " [ 54  81  12]]\n",
            "\n",
            "3(2A + 5B) =\n",
            " [[ 42 108  90]\n",
            " [ 54  81  12]]\n",
            "\n",
            "\n",
            " (3A^T)^T = \n",
            " [[21  9 15]\n",
            " [12 18  6]]\n"
          ]
        }
      ],
      "source": [
        "#type your code here:\n"
      ]
    },
    {
      "cell_type": "markdown",
      "metadata": {
        "id": "fF1etmSMEZFw"
      },
      "source": [
        "b) To obtain the matrix-vector product $Au$ using python, type `A @ u`. Calculate the following:\n",
        "\n",
        "- $Au+Av$\n",
        "- $A(u+v)$\n",
        "- $(A+B)u$\n",
        "- $Au+Bu$\n",
        "- $A(3u)$\n",
        "- $3A(u)$"
      ]
    },
    {
      "cell_type": "code",
      "source": [
        "print(f\"A@u+A@v={A@u+A@v}\")\n",
        "print(f\"A@(u+v)={A@(u+v)}\")\n",
        "print(f\"(A+B)@u={np.array(A+B)@u}\")\n",
        "print(f\"A@u+B@u={A@u+B@u}\")\n",
        "print(f\"A@(3*u)={A@(3*u)}\")\n",
        "print(f\"3*A@u={3*A@u}\")"
      ],
      "metadata": {
        "colab": {
          "base_uri": "https://localhost:8080/"
        },
        "id": "u8oZJkb5Td4c",
        "outputId": "e1383902-5488-440b-8cfb-b507c1a7704f"
      },
      "execution_count": null,
      "outputs": [
        {
          "output_type": "stream",
          "name": "stdout",
          "text": [
            "A@u+A@v=[[127]\n",
            " [106]]\n",
            "A@(u+v)=[[127]\n",
            " [106]]\n",
            "(A+B)@u=[[95]\n",
            " [79]]\n",
            "A@u+B@u=[[95]\n",
            " [79]]\n",
            "A@(3*u)=[[135]\n",
            " [162]]\n",
            "3*A@u=[[135]\n",
            " [162]]\n"
          ]
        }
      ]
    },
    {
      "cell_type": "code",
      "execution_count": null,
      "metadata": {
        "id": "_wD2rwudEZFw",
        "outputId": "00861eb2-8537-478e-b732-8ee5f47765fd"
      },
      "outputs": [
        {
          "name": "stdout",
          "output_type": "stream",
          "text": [
            "Au + Av =\n",
            " [[127]\n",
            " [106]]\n",
            "\n",
            "A(u + v) =\n",
            " [[127]\n",
            " [106]]\n",
            "\n",
            "(A + B)u =\n",
            " [[95]\n",
            " [79]]\n",
            "\n",
            "Au + Bu =\n",
            " [[95]\n",
            " [79]]\n",
            "\n",
            "A(3u) =\n",
            " [[135]\n",
            " [162]]\n",
            "\n",
            "3A(u) =\n",
            " [[135]\n",
            " [162]]\n",
            "\n"
          ]
        }
      ],
      "source": [
        "#type your code here:\n"
      ]
    },
    {
      "cell_type": "markdown",
      "metadata": {
        "id": "KKhsKpKCEZFw"
      },
      "source": [
        "# Question 4. Gaussian Elimination and Reduced Row-Echelon Form"
      ]
    },
    {
      "cell_type": "markdown",
      "metadata": {
        "id": "rp2dfA6IEZFx"
      },
      "source": [
        "You will see a step-by-step example of the row operations that transform a matrix $A$ into its reduced row echelon form $R = rref(A)$. In this demonstration, each pivot is chosen to be the largest in its column (for numerical stability), so extra row interchanges are used. Since $rref(A)$ is uniquely determined by $A$, this does not affect the final answer.\n",
        "\n",
        "The built in [rref](https://docs.sympy.org/latest/tutorial/matrices.html#rref) method `sympy.rref()` method just search for the method and its output to deal with the code."
      ]
    },
    {
      "cell_type": "markdown",
      "metadata": {
        "id": "2DrgqRLtEZFx"
      },
      "source": [
        "#### (a) Generate and display a $3 \\times 4$ matrix $A$ with random integer entries"
      ]
    },
    {
      "cell_type": "code",
      "source": [
        "A=np.fix((10*(np.random.rand(3,4))))\n",
        "print(f\"A={A}\")"
      ],
      "metadata": {
        "colab": {
          "base_uri": "https://localhost:8080/"
        },
        "id": "zn17ihKAT9wA",
        "outputId": "78a76a5e-d3c6-41b5-c989-0c8d46052ea2"
      },
      "execution_count": 2,
      "outputs": [
        {
          "output_type": "stream",
          "name": "stdout",
          "text": [
            "A=[[2. 4. 8. 5.]\n",
            " [2. 6. 7. 7.]\n",
            " [0. 8. 8. 7.]]\n"
          ]
        }
      ]
    },
    {
      "cell_type": "code",
      "execution_count": null,
      "metadata": {
        "id": "ulF7hsPKEZFx",
        "outputId": "18d3f3a9-2dda-4129-8619-d85c5a4bbbbb"
      },
      "outputs": [
        {
          "name": "stdout",
          "output_type": "stream",
          "text": [
            "\n",
            " A = \n",
            " [[8. 0. 4. 1.]\n",
            " [6. 6. 2. 7.]\n",
            " [0. 1. 6. 0.]]\n"
          ]
        }
      ],
      "source": [
        "#type your code here:\n",
        "A = np.fix((10*(np.random.rand(3,4))))\n",
        "print(\"\\n A = \\n\", A)"
      ]
    },
    {
      "cell_type": "markdown",
      "metadata": {
        "id": "ZNUjgcnUEZFx"
      },
      "source": [
        "- To transform $A$ into $R = rref(A)$, start with $R = A$.\n",
        "- Normalize the first row of R to get R(1st row, 1st column) = 1\n",
        "\n",
        "    - `R = A`\n",
        "    - `R[0,:] = R[0, :] / R[0, 0]`\n",
        "\n",
        "(note the use of the colon to operate on whole rows of the matrix).\n",
        "\n",
        "<div class=\"alert alert-block alert-warning\">If your random matrix happens to have A(1, 1) = 0, then interchange rows to get a nonzero entry in the (1, 1) position before doing the calculation above.</div>\n",
        "\n",
        "- Now subtract a multiple of the first row of R from the second row to make R(2, 1) = 0:\n",
        "\n",
        "    - `R[1, :] = R[1, :] - R[1, 0] * R[0, :]`\n",
        "\n",
        "- Repeat this procedure to make R(3, 1) = 0:\n",
        "\n",
        "    - `R[2, :] = R[2, :] - R[2, 0] * R[0, :]`\n",
        "\n",
        "The first column of your matrix $R$ should now be the same as the first column of $rref(A)$."
      ]
    },
    {
      "cell_type": "code",
      "source": [
        "R = A\n",
        "R[0,:] = R[0, :] / R[0, 0]\n",
        "R[1, :] = R[1, :] - R[1, 0] * R[0, :]\n",
        "print(\"\\n R = \\n\", R)"
      ],
      "metadata": {
        "id": "3NeoHTESUQd6",
        "colab": {
          "base_uri": "https://localhost:8080/"
        },
        "outputId": "7ac8a6b5-00a0-4163-be6c-cfd1f4dde7f2"
      },
      "execution_count": 7,
      "outputs": [
        {
          "output_type": "stream",
          "name": "stdout",
          "text": [
            "\n",
            " R = \n",
            " [[ 1.   2.   4.   2.5]\n",
            " [ 0.   2.  -1.   2. ]\n",
            " [ 0.   8.   8.   7. ]]\n"
          ]
        }
      ]
    },
    {
      "cell_type": "code",
      "execution_count": null,
      "metadata": {
        "id": "62QkvYYqEZFx",
        "outputId": "01f10045-a20f-49e0-ad61-89e2eda2131e"
      },
      "outputs": [
        {
          "name": "stdout",
          "output_type": "stream",
          "text": [
            "\n",
            " R = \n",
            " [[ 1.     0.     0.5    0.125]\n",
            " [ 0.     6.    -1.     6.25 ]\n",
            " [ 0.     1.     6.     0.   ]]\n"
          ]
        }
      ],
      "source": [
        "#type your code here:\n"
      ]
    },
    {
      "cell_type": "markdown",
      "metadata": {
        "id": "EsNYEzKAEZFy"
      },
      "source": [
        "#### (b)Operate on $R$ by the same method as in (a) to obtain the second column of $rref(A)$. First normalize row $2$ of $R$, then subtract multiples of row $2$ from rows $1$ and $3$ to put zeros in the (1, 2) and (3, 2) positions. Be sure to refer to the entries in your matrix symbolically as was done in part (a)"
      ]
    },
    {
      "cell_type": "code",
      "source": [
        "R[1,:] = R[1, :] / R[0, 0]\n",
        "print(\"\\n R = \\n\", R)"
      ],
      "metadata": {
        "colab": {
          "base_uri": "https://localhost:8080/"
        },
        "id": "RbOd2754CJrk",
        "outputId": "27c45aa5-2714-4986-9c47-dc2485c00c86"
      },
      "execution_count": 13,
      "outputs": [
        {
          "output_type": "stream",
          "name": "stdout",
          "text": [
            "\n",
            " R = \n",
            " [[ 1.          0.          0.          0.91666667]\n",
            " [ 0.          1.          0.          0.95833333]\n",
            " [ 0.          0.          1.         -0.08333333]]\n"
          ]
        }
      ]
    },
    {
      "cell_type": "code",
      "execution_count": null,
      "metadata": {
        "id": "rEhB7uOUEZFy",
        "outputId": "269cf658-1994-4849-d670-14e7ab2785ec"
      },
      "outputs": [
        {
          "name": "stdout",
          "output_type": "stream",
          "text": [
            "\n",
            " R = \n",
            " [[ 1.          0.          0.5         0.125     ]\n",
            " [ 0.          1.         -0.16666667  1.04166667]\n",
            " [ 0.          0.          6.16666667 -1.04166667]]\n"
          ]
        }
      ],
      "source": [
        "#type your code here:\n"
      ]
    },
    {
      "cell_type": "markdown",
      "metadata": {
        "id": "ZrmAzMa4EZFy"
      },
      "source": [
        "#### (c) Operate on $R$ by the same method as in (b) to obtain the third column of $rref(A)$. First normalize row $3$ of $R$, then subtract multiples of row $3$ from rows $1$ and $2$ to put zeros in the (1, 3) and (2, 3) positions."
      ]
    },
    {
      "cell_type": "code",
      "source": [
        "R[2,:] = R[2, :] / R[0, 0]\n",
        "print(\"\\n R = \\n\", R)"
      ],
      "metadata": {
        "colab": {
          "base_uri": "https://localhost:8080/"
        },
        "id": "J2CywVF5DwKl",
        "outputId": "5d410132-c379-45ac-8a91-9784ae126457"
      },
      "execution_count": 14,
      "outputs": [
        {
          "output_type": "stream",
          "name": "stdout",
          "text": [
            "\n",
            " R = \n",
            " [[ 1.          0.          0.          0.91666667]\n",
            " [ 0.          1.          0.          0.95833333]\n",
            " [ 0.          0.          1.         -0.08333333]]\n"
          ]
        }
      ]
    },
    {
      "cell_type": "code",
      "execution_count": null,
      "metadata": {
        "id": "VPibWjApEZFy",
        "outputId": "1e51063e-5b4c-47a7-8d0c-29e18a56d8d8"
      },
      "outputs": [
        {
          "name": "stdout",
          "output_type": "stream",
          "text": [
            "\n",
            " R = \n",
            " [[ 1.          0.          0.          0.20945946]\n",
            " [ 0.          1.          0.          1.01351351]\n",
            " [ 0.          0.          1.         -0.16891892]]\n"
          ]
        }
      ],
      "source": [
        "#type your code here:\n",
        "\n"
      ]
    },
    {
      "cell_type": "markdown",
      "metadata": {
        "id": "WZ9AOay2EZFy"
      },
      "source": [
        "#### (d) Your matrix $R$ should now be transformed into $rref(A)$ (since $A$ is a random $3 \\times 4$ matrix, $rref(A)$ is (almost) sure to have rank (3) `np.linalg.matrix_rank(R)`. Check your answer by python with the rref method . If the answer is not the same as the current value of your $R$, go back and redo your calculations.\n",
        "\n",
        "- use the the built in rref method `sympy.rref()`\n",
        "- print the output matrix in numpy array type\n",
        "\n",
        "    - `M = sym.Matrix(A)`\n",
        "    - `M_rref = M.rref()`\n",
        "    - `R = np.array((M_rref[0])).astype(np.float64)`"
      ]
    },
    {
      "cell_type": "code",
      "source": [
        "M = sym.Matrix(A)\n",
        "M_rref = M.rref()\n",
        "R = np.array((M_rref[0])).astype(np.float64)\n",
        "print(\"R =\", R)"
      ],
      "metadata": {
        "colab": {
          "base_uri": "https://localhost:8080/"
        },
        "id": "zQ6wXRYTCN4q",
        "outputId": "927a479d-9e24-47aa-8b7e-2d9599b223f4"
      },
      "execution_count": 12,
      "outputs": [
        {
          "output_type": "stream",
          "name": "stdout",
          "text": [
            "R = [[ 1.          0.          0.          0.91666667]\n",
            " [ 0.          1.          0.          0.95833333]\n",
            " [ 0.          0.          1.         -0.08333333]]\n"
          ]
        }
      ]
    },
    {
      "cell_type": "code",
      "execution_count": null,
      "metadata": {
        "id": "jzQLnZAxEZF3",
        "outputId": "ca1aa070-bd3d-445d-9cb4-a1462398a064"
      },
      "outputs": [
        {
          "name": "stdout",
          "output_type": "stream",
          "text": [
            "\n",
            " rank = \n",
            " 3\n",
            "\n",
            " The Row echelon form of matrix M \n",
            " [[ 1.          0.          0.          0.20945946]\n",
            " [ 0.          1.          0.          1.01351351]\n",
            " [ 0.          0.          1.         -0.16891892]]\n"
          ]
        }
      ],
      "source": [
        "#type your code here:\n",
        "\n",
        "# Use sympy.rref() method\n"
      ]
    },
    {
      "cell_type": "markdown",
      "metadata": {
        "id": "8PPhvQWWEZF3"
      },
      "source": [
        "# Question 5. Matrix Multiplication using Different views"
      ]
    },
    {
      "cell_type": "markdown",
      "metadata": {
        "id": "6v_M4X_AEZF3"
      },
      "source": [
        "we discussed in the lecture four different ways about product $AB = C$ where $A$ and $B$ are arbitry matrices. If $A$ is an $m \\times n$ matrix and $B$ is an $n \\times p$ matrix, then $C$ is an $m \\times p$ matrix:\n",
        "\n",
        "1. **Standard(row times column):** The standard way of describing a matrix product is to say that $c_(ij)$ equals the dot product of row $i$ of matrix $A$ and column $j$ of matrix $B$.\n",
        "\n",
        "2. **Columns:** The product of matrix $A$ and column $j$ of matrix $B$ equals column $j$ of matrix  $C$. This tells us that the columns of $C$ are combinations of columns of $A$.\n",
        "\n",
        "3. **Rows:** The product of row $i$ of matrix $A$ and matrix $B$ equals row $i$ of matrix $C$.So the rows of $C$ are combinations of rows of $B$.\n",
        "\n",
        "4. **Column times row**: A column of $A$ is an $m \\times 1$ vector and a row of $B$ is a $1 \\times p$ vector.Their product is a matrix."
      ]
    },
    {
      "cell_type": "markdown",
      "metadata": {
        "id": "xS670-RcEZF4"
      },
      "source": [
        "In this problem we will use python to perform the matrix multiplication using these different ways, and compute the execution time for each method time.\n",
        "\n",
        "(Write your code as a function that perform the multiplication for arbitrary size of the matrices $A$ and $B$)"
      ]
    },
    {
      "cell_type": "code",
      "source": [
        "def check_dimension(A, B):\n",
        "    return A.shape[1] == B.shape[0]\n",
        "\n",
        "def mat_mul_standard(A, B):\n",
        "    if not check_dimension(A, B):\n",
        "        raise Exception('Dimensions aren\\'t consistant')\n",
        "\n",
        "    m, n = A.shape\n",
        "    n, p = B.shape\n",
        "\n",
        "    C = np.zeros((m, p))\n",
        "    ################type your code here#####################\n",
        "    for i in range(m):\n",
        "        for j in range(p):\n",
        "            C[i, j] = np.dot(A[i, :], B[:, j])\n",
        "    ########################################################\n",
        "    return C\n",
        "\n",
        "\n",
        "def mat_mul_columns(A, B):\n",
        "    if not check_dimension(A, B):\n",
        "        raise Exception('Dimensions aren\\'t consistant')\n",
        "\n",
        "    m, n = A.shape\n",
        "    n, p = B.shape\n",
        "\n",
        "    C = np.zeros((m, p))\n",
        "    ################type your code here#####################\n",
        "    for j in range(p):\n",
        "        C[:, j] = np.dot(A, B[:, j])\n",
        "    ########################################################\n",
        "    return C\n",
        "\n",
        "def mat_mul_rows(A, B):\n",
        "    if not check_dimension(A, B):\n",
        "        raise Exception('Dimensions aren\\'t consistant')\n",
        "\n",
        "    m, n = A.shape\n",
        "    n, p = B.shape\n",
        "\n",
        "    C = np.zeros((m, p))\n",
        "    ################type your code here#####################\n",
        "    for i in range(m):\n",
        "        C[i, :] = np.dot(A[i, :], B)\n",
        "    ########################################################\n",
        "    return C\n",
        "\n",
        "\n",
        "\n",
        "def mat_mul_column_times_row(A, B):\n",
        "    if not check_dimension(A, B):\n",
        "        raise Exception('Dimensions aren\\'t consistant')\n",
        "\n",
        "    m, n = A.shape\n",
        "    n, p = B.shape\n",
        "\n",
        "    C = np.zeros((m, p))\n",
        "    ################type your code here#####################\n",
        "    for i in range(n):\n",
        "        C += np.outer(A[:, i], B[i, :])\n",
        "    ########################################################\n",
        "    return C"
      ],
      "metadata": {
        "id": "C8M5BrFREw-a"
      },
      "execution_count": 34,
      "outputs": []
    },
    {
      "cell_type": "code",
      "execution_count": null,
      "metadata": {
        "id": "8557cehjEZF4"
      },
      "outputs": [],
      "source": [
        "def check_dimension(A, B):\n",
        "    return A.shape[1] == B.shape[0]\n",
        "\n",
        "def mat_mul_standard(A, B):\n",
        "    if not check_dimension(A, B):\n",
        "        raise Exception('Dimensions aren\\'t consistant')\n",
        "\n",
        "    m, n = A.shape\n",
        "    n, p = B.shape\n",
        "\n",
        "    C = np.zeros((m, p))\n",
        "    ################type your code here#####################\n",
        "\n",
        "\n",
        "    ########################################################\n",
        "    return C\n",
        "\n",
        "\n",
        "def mat_mul_columns(A, B):\n",
        "    if not check_dimension(A, B):\n",
        "        raise Exception('Dimensions aren\\'t consistant')\n",
        "\n",
        "    m, n = A.shape\n",
        "    n, p = B.shape\n",
        "\n",
        "    C = np.zeros((m, p))\n",
        "    ################type your code here#####################\n",
        "\n",
        "\n",
        "    ########################################################\n",
        "    return C\n",
        "\n",
        "def mat_mul_rows(A, B):\n",
        "    if not check_dimension(A, B):\n",
        "        raise Exception('Dimensions aren\\'t consistant')\n",
        "\n",
        "    m, n = A.shape\n",
        "    n, p = B.shape\n",
        "\n",
        "    C = np.zeros((m, p))\n",
        "    ################type your code here#####################\n",
        "\n",
        "\n",
        "    ########################################################\n",
        "    return C\n",
        "\n",
        "\n",
        "\n",
        "def mat_mul_column_times_row(A, B):\n",
        "    if not check_dimension(A, B):\n",
        "        raise Exception('Dimensions aren\\'t consistant')\n",
        "\n",
        "    m, n = A.shape\n",
        "    n, p = B.shape\n",
        "\n",
        "    C = np.zeros((m, p))\n",
        "    ################type your code here#####################\n",
        "\n",
        "\n",
        "    ########################################################\n",
        "    return C"
      ]
    },
    {
      "cell_type": "code",
      "source": [
        "A = np.array([[12., 7., 3.],[4., 5., 6.],[7., 8., 9.]])\n",
        "B = np.array([[5., 8., 1., 2.],[6., 7., 3., 0.],[4., 5., 9., 1.]])\n",
        "\n",
        "#################### لابتوب  كان هيفرقع#############################\n",
        "\n",
        "#A = np.fix((10*(np.random.rand(300, 300))))\n",
        "#B = np.fix((10*(np.random.rand(300, 300))))"
      ],
      "metadata": {
        "id": "9MsA5OZnEoIi"
      },
      "execution_count": 17,
      "outputs": []
    },
    {
      "cell_type": "code",
      "execution_count": null,
      "metadata": {
        "id": "eMnLEz-KEZF4"
      },
      "outputs": [],
      "source": [
        "#A = np.array([[12., 7., 3.],[4., 5., 6.],[7., 8., 9.]])\n",
        "#B = np.array([[5., 8., 1., 2.],[6., 7., 3., 0.],[4., 5., 9., 1.]])\n",
        "\n",
        "A = np.fix((10*(np.random.rand(300, 300))))\n",
        "B = np.fix((10*(np.random.rand(300, 300))))"
      ]
    },
    {
      "cell_type": "code",
      "source": [
        "%%time\n",
        "print('A @ B = \\n', A @ B)"
      ],
      "metadata": {
        "colab": {
          "base_uri": "https://localhost:8080/"
        },
        "id": "rEzS52DmEjNC",
        "outputId": "458f2b58-c699-4fc1-b37b-12e447d1fd35"
      },
      "execution_count": 18,
      "outputs": [
        {
          "output_type": "stream",
          "name": "stdout",
          "text": [
            "A @ B = \n",
            " [[114. 160.  60.  27.]\n",
            " [ 74.  97.  73.  14.]\n",
            " [119. 157. 112.  23.]]\n",
            "CPU times: user 1.96 ms, sys: 0 ns, total: 1.96 ms\n",
            "Wall time: 5.47 ms\n"
          ]
        }
      ]
    },
    {
      "cell_type": "code",
      "execution_count": null,
      "metadata": {
        "id": "KHC1NizhEZF4",
        "outputId": "fc0df19d-809c-4404-b972-9b2f37a92190"
      },
      "outputs": [
        {
          "name": "stdout",
          "output_type": "stream",
          "text": [
            "A @ B = \n",
            " [[5799. 5873. 5658. ... 5684. 5842. 5506.]\n",
            " [6502. 6189. 6059. ... 6430. 6313. 6102.]\n",
            " [5899. 5845. 5866. ... 6014. 5828. 5749.]\n",
            " ...\n",
            " [5930. 5906. 5791. ... 5630. 5784. 5905.]\n",
            " [5937. 5785. 6013. ... 5898. 5942. 5690.]\n",
            " [5902. 5977. 6099. ... 5526. 5979. 5745.]]\n",
            "Wall time: 3.69 ms\n"
          ]
        }
      ],
      "source": [
        "%%time\n",
        "print('A @ B = \\n', A @ B)"
      ]
    },
    {
      "cell_type": "code",
      "source": [
        "%%time\n",
        "C_standard = mat_mul_standard(A, B)\n",
        "print('C_standard = \\n', C_standard)"
      ],
      "metadata": {
        "colab": {
          "base_uri": "https://localhost:8080/"
        },
        "id": "De07KBkJEhVb",
        "outputId": "3a8e352b-3243-4198-8fdd-249eddb44c5f"
      },
      "execution_count": 20,
      "outputs": [
        {
          "output_type": "stream",
          "name": "stdout",
          "text": [
            "C_standard = \n",
            " [[114. 160.  60.  27.]\n",
            " [ 74.  97.  73.  14.]\n",
            " [119. 157. 112.  23.]]\n",
            "CPU times: user 1.6 ms, sys: 0 ns, total: 1.6 ms\n",
            "Wall time: 1.43 ms\n"
          ]
        }
      ]
    },
    {
      "cell_type": "code",
      "execution_count": null,
      "metadata": {
        "id": "ojULCp0VEZF4",
        "outputId": "1e940d76-9f1d-4172-b3ae-07293727d1c6"
      },
      "outputs": [
        {
          "name": "stdout",
          "output_type": "stream",
          "text": [
            "C_standard = \n",
            " [[5799. 5873. 5658. ... 5684. 5842. 5506.]\n",
            " [6502. 6189. 6059. ... 6430. 6313. 6102.]\n",
            " [5899. 5845. 5866. ... 6014. 5828. 5749.]\n",
            " ...\n",
            " [5930. 5906. 5791. ... 5630. 5784. 5905.]\n",
            " [5937. 5785. 6013. ... 5898. 5942. 5690.]\n",
            " [5902. 5977. 6099. ... 5526. 5979. 5745.]]\n",
            "Wall time: 659 ms\n"
          ]
        }
      ],
      "source": [
        "%%time\n",
        "C_standard = mat_mul_standard(A, B)\n",
        "print('C_standard = \\n', C_standard)"
      ]
    },
    {
      "cell_type": "code",
      "source": [
        "%%time\n",
        "C_columns = mat_mul_columns(A, B)\n",
        "print('C_columns = \\n', C_columns)"
      ],
      "metadata": {
        "colab": {
          "base_uri": "https://localhost:8080/"
        },
        "id": "GT02jb7EEf4j",
        "outputId": "915946a5-9552-47bd-9cc2-5dfc87e3df95"
      },
      "execution_count": 21,
      "outputs": [
        {
          "output_type": "stream",
          "name": "stdout",
          "text": [
            "C_columns = \n",
            " [[114. 160.  60.  27.]\n",
            " [ 74.  97.  73.  14.]\n",
            " [119. 157. 112.  23.]]\n",
            "CPU times: user 1.27 ms, sys: 49 µs, total: 1.32 ms\n",
            "Wall time: 4.74 ms\n"
          ]
        }
      ]
    },
    {
      "cell_type": "code",
      "execution_count": null,
      "metadata": {
        "id": "vFIc8o0_EZF5",
        "outputId": "8ed3ecb6-10ae-4a5e-a67a-128ed24cd633"
      },
      "outputs": [
        {
          "name": "stdout",
          "output_type": "stream",
          "text": [
            "C_columns = \n",
            " [[5799. 5873. 5658. ... 5684. 5842. 5506.]\n",
            " [6502. 6189. 6059. ... 6430. 6313. 6102.]\n",
            " [5899. 5845. 5866. ... 6014. 5828. 5749.]\n",
            " ...\n",
            " [5930. 5906. 5791. ... 5630. 5784. 5905.]\n",
            " [5937. 5785. 6013. ... 5898. 5942. 5690.]\n",
            " [5902. 5977. 6099. ... 5526. 5979. 5745.]]\n",
            "Wall time: 1.77 s\n"
          ]
        }
      ],
      "source": [
        "%%time\n",
        "C_columns = mat_mul_columns(A, B)\n",
        "print('C_columns = \\n', C_columns)"
      ]
    },
    {
      "cell_type": "code",
      "source": [
        "%%time\n",
        "C_rows = mat_mul_rows(A, B)\n",
        "print('C_rows = \\n', C_rows)"
      ],
      "metadata": {
        "colab": {
          "base_uri": "https://localhost:8080/"
        },
        "id": "2I5ym3B9EeOD",
        "outputId": "a84a39dc-b491-41c2-bb2b-9a2d6f872241"
      },
      "execution_count": 22,
      "outputs": [
        {
          "output_type": "stream",
          "name": "stdout",
          "text": [
            "C_rows = \n",
            " [[114. 160.  60.  27.]\n",
            " [ 74.  97.  73.  14.]\n",
            " [119. 157. 112.  23.]]\n",
            "CPU times: user 2.93 ms, sys: 0 ns, total: 2.93 ms\n",
            "Wall time: 2.94 ms\n"
          ]
        }
      ]
    },
    {
      "cell_type": "code",
      "execution_count": 23,
      "metadata": {
        "id": "aDclxrWhEZF5",
        "outputId": "66d7f483-2cd7-4f98-9296-b7e80f051c14",
        "colab": {
          "base_uri": "https://localhost:8080/"
        }
      },
      "outputs": [
        {
          "output_type": "stream",
          "name": "stdout",
          "text": [
            "C_rows = \n",
            " [[114. 160.  60.  27.]\n",
            " [ 74.  97.  73.  14.]\n",
            " [119. 157. 112.  23.]]\n",
            "CPU times: user 1.95 ms, sys: 0 ns, total: 1.95 ms\n",
            "Wall time: 1.96 ms\n"
          ]
        }
      ],
      "source": [
        "%%time\n",
        "C_rows = mat_mul_rows(A, B)\n",
        "print('C_rows = \\n', C_rows)"
      ]
    },
    {
      "cell_type": "code",
      "source": [
        "%%time\n",
        "C_column_times_row = mat_mul_column_times_row(A, B)\n",
        "print('C_column_times_row = \\n', C_column_times_row)"
      ],
      "metadata": {
        "colab": {
          "base_uri": "https://localhost:8080/"
        },
        "id": "uURqG25sEbs7",
        "outputId": "f4440b82-3f3e-4358-ebd4-1e21112c40ab"
      },
      "execution_count": 36,
      "outputs": [
        {
          "output_type": "stream",
          "name": "stdout",
          "text": [
            "C_column_times_row = \n",
            " [[114. 160.  60.  27.]\n",
            " [ 74.  97.  73.  14.]\n",
            " [119. 157. 112.  23.]]\n",
            "CPU times: user 2.32 ms, sys: 48 µs, total: 2.37 ms\n",
            "Wall time: 2.54 ms\n"
          ]
        }
      ]
    },
    {
      "cell_type": "code",
      "execution_count": 35,
      "metadata": {
        "id": "nGMWE9seEZF5",
        "outputId": "1f5eb9df-5086-43e5-9a0c-507f819aaf94",
        "colab": {
          "base_uri": "https://localhost:8080/"
        }
      },
      "outputs": [
        {
          "output_type": "stream",
          "name": "stdout",
          "text": [
            "C_column_times_row = \n",
            " [[114. 160.  60.  27.]\n",
            " [ 74.  97.  73.  14.]\n",
            " [119. 157. 112.  23.]]\n",
            "CPU times: user 3.04 ms, sys: 0 ns, total: 3.04 ms\n",
            "Wall time: 3.05 ms\n"
          ]
        }
      ],
      "source": [
        "%%time\n",
        "C_column_times_row = mat_mul_column_times_row(A, B)\n",
        "print('C_column_times_row = \\n', C_column_times_row)"
      ]
    }
  ],
  "metadata": {
    "kernelspec": {
      "display_name": "Python 3",
      "language": "python",
      "name": "python3"
    },
    "language_info": {
      "codemirror_mode": {
        "name": "ipython",
        "version": 3
      },
      "file_extension": ".py",
      "mimetype": "text/x-python",
      "name": "python",
      "nbconvert_exporter": "python",
      "pygments_lexer": "ipython3",
      "version": "3.10.9"
    },
    "colab": {
      "provenance": []
    }
  },
  "nbformat": 4,
  "nbformat_minor": 0
}